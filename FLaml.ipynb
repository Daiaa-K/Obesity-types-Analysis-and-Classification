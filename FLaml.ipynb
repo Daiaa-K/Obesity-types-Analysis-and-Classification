{
 "cells": [
  {
   "cell_type": "markdown",
   "id": "4ace8349",
   "metadata": {},
   "source": [
    "# Importing FLAML and necessary libraries"
   ]
  },
  {
   "cell_type": "code",
   "execution_count": 18,
   "id": "6f399887",
   "metadata": {
    "ExecuteTime": {
     "end_time": "2024-06-05T17:04:05.928629Z",
     "start_time": "2024-06-05T17:04:05.924316Z"
    }
   },
   "outputs": [],
   "source": [
    "import pandas as pd\n",
    "from sklearn.model_selection import train_test_split\n",
    "from sklearn.metrics import accuracy_score,confusion_matrix\n",
    "import matplotlib.pyplot as plt\n",
    "import seaborn as sns\n",
    "\n",
    "from flaml import AutoML"
   ]
  },
  {
   "cell_type": "markdown",
   "id": "08615140",
   "metadata": {},
   "source": [
    "# Reading model data done in obesity types eda notebook"
   ]
  },
  {
   "cell_type": "code",
   "execution_count": 2,
   "id": "6f7ea610",
   "metadata": {
    "ExecuteTime": {
     "end_time": "2024-06-05T16:51:31.683746Z",
     "start_time": "2024-06-05T16:51:31.655664Z"
    }
   },
   "outputs": [],
   "source": [
    "data = pd.read_csv(\"model data.csv\")"
   ]
  },
  {
   "cell_type": "code",
   "execution_count": 3,
   "id": "24b50802",
   "metadata": {
    "ExecuteTime": {
     "end_time": "2024-06-05T16:51:31.713377Z",
     "start_time": "2024-06-05T16:51:31.685757Z"
    }
   },
   "outputs": [],
   "source": [
    "x = data.drop(columns=\"NObeyesdad\")\n",
    "y=data[\"NObeyesdad\"]\n",
    "x_train,x_test,y_train,y_test = train_test_split(x,y,test_size=0.2,random_state=7)"
   ]
  },
  {
   "cell_type": "code",
   "execution_count": 4,
   "id": "b3916bb0",
   "metadata": {
    "ExecuteTime": {
     "end_time": "2024-06-05T16:51:31.720268Z",
     "start_time": "2024-06-05T16:51:31.715385Z"
    }
   },
   "outputs": [],
   "source": [
    "automl_settings ={\n",
    "    \"time_budget\":600,\n",
    "    \"metric\":\"accuracy\",\n",
    "    \"task\":\"classification\",\n",
    "    \"log_file_name\":\"automl.log\"\n",
    "    \n",
    "}"
   ]
  },
  {
   "cell_type": "code",
   "execution_count": 5,
   "id": "a075b202",
   "metadata": {
    "ExecuteTime": {
     "end_time": "2024-06-05T16:51:31.736534Z",
     "start_time": "2024-06-05T16:51:31.724279Z"
    }
   },
   "outputs": [
    {
     "data": {
      "text/plain": [
       "Index(['Age', 'Height', 'Weight', 'alcohol_drinking_frequency',\n",
       "       'vegetable_eat_daily', 'number_of_meals_daily', 'water_drinking_daily',\n",
       "       'physical_activity_daily', 'electronics_usage_daily',\n",
       "       'food_between_meals', 'NObeyesdad', 'Gender_Female', 'Gender_Male',\n",
       "       'high_calorie_food_eat_no', 'high_calorie_food_eat_yes',\n",
       "       'calories_monitoring_no', 'calories_monitoring_yes', 'SMOKE_no',\n",
       "       'SMOKE_yes', 'family_history_with_overweight_no',\n",
       "       'family_history_with_overweight_yes',\n",
       "       'method_of_transportion_Automobile', 'method_of_transportion_Bike',\n",
       "       'method_of_transportion_Motorbike',\n",
       "       'method_of_transportion_Public_Transportation',\n",
       "       'method_of_transportion_Walking'],\n",
       "      dtype='object')"
      ]
     },
     "execution_count": 5,
     "metadata": {},
     "output_type": "execute_result"
    }
   ],
   "source": [
    "data.columns"
   ]
  },
  {
   "cell_type": "markdown",
   "id": "2aee859f",
   "metadata": {},
   "source": [
    "# Training and evaluating model"
   ]
  },
  {
   "cell_type": "code",
   "execution_count": 6,
   "id": "644d0cbb",
   "metadata": {
    "ExecuteTime": {
     "end_time": "2024-06-05T17:01:33.032097Z",
     "start_time": "2024-06-05T16:51:31.739541Z"
    }
   },
   "outputs": [
    {
     "name": "stdout",
     "output_type": "stream",
     "text": [
      "[flaml.automl.logger: 06-05 19:51:31] {1680} INFO - task = classification\n",
      "[flaml.automl.logger: 06-05 19:51:31] {1691} INFO - Evaluation method: cv\n",
      "[flaml.automl.logger: 06-05 19:51:31] {1789} INFO - Minimizing error metric: 1-accuracy\n",
      "[flaml.automl.logger: 06-05 19:51:31] {1901} INFO - List of ML learners in AutoML Run: ['lgbm', 'rf', 'xgboost', 'extra_tree', 'xgb_limitdepth', 'lrl1']\n",
      "[flaml.automl.logger: 06-05 19:51:31] {2219} INFO - iteration 0, current learner lgbm\n",
      "[flaml.automl.logger: 06-05 19:51:31] {2345} INFO - Estimated sufficient time budget=1136s. Estimated necessary time budget=26s.\n",
      "[flaml.automl.logger: 06-05 19:51:31] {2392} INFO -  at 0.2s,\testimator lgbm's best error=0.2367,\tbest estimator lgbm's best error=0.2367\n",
      "[flaml.automl.logger: 06-05 19:51:31] {2219} INFO - iteration 1, current learner lgbm\n",
      "[flaml.automl.logger: 06-05 19:51:31] {2392} INFO -  at 0.2s,\testimator lgbm's best error=0.2367,\tbest estimator lgbm's best error=0.2367\n",
      "[flaml.automl.logger: 06-05 19:51:31] {2219} INFO - iteration 2, current learner lgbm\n",
      "[flaml.automl.logger: 06-05 19:51:32] {2392} INFO -  at 0.3s,\testimator lgbm's best error=0.2165,\tbest estimator lgbm's best error=0.2165\n",
      "[flaml.automl.logger: 06-05 19:51:32] {2219} INFO - iteration 3, current learner lgbm\n",
      "[flaml.automl.logger: 06-05 19:51:32] {2392} INFO -  at 0.4s,\testimator lgbm's best error=0.0795,\tbest estimator lgbm's best error=0.0795\n",
      "[flaml.automl.logger: 06-05 19:51:32] {2219} INFO - iteration 4, current learner lgbm\n",
      "[flaml.automl.logger: 06-05 19:51:32] {2392} INFO -  at 0.5s,\testimator lgbm's best error=0.0795,\tbest estimator lgbm's best error=0.0795\n",
      "[flaml.automl.logger: 06-05 19:51:32] {2219} INFO - iteration 5, current learner lgbm\n",
      "[flaml.automl.logger: 06-05 19:51:32] {2392} INFO -  at 0.6s,\testimator lgbm's best error=0.0600,\tbest estimator lgbm's best error=0.0600\n",
      "[flaml.automl.logger: 06-05 19:51:32] {2219} INFO - iteration 6, current learner lgbm\n",
      "[flaml.automl.logger: 06-05 19:51:32] {2392} INFO -  at 0.7s,\testimator lgbm's best error=0.0600,\tbest estimator lgbm's best error=0.0600\n",
      "[flaml.automl.logger: 06-05 19:51:32] {2219} INFO - iteration 7, current learner lgbm\n",
      "[flaml.automl.logger: 06-05 19:51:32] {2392} INFO -  at 0.8s,\testimator lgbm's best error=0.0600,\tbest estimator lgbm's best error=0.0600\n",
      "[flaml.automl.logger: 06-05 19:51:32] {2219} INFO - iteration 8, current learner xgboost\n",
      "[flaml.automl.logger: 06-05 19:51:32] {2392} INFO -  at 0.9s,\testimator xgboost's best error=0.2412,\tbest estimator lgbm's best error=0.0600\n",
      "[flaml.automl.logger: 06-05 19:51:32] {2219} INFO - iteration 9, current learner lgbm\n",
      "[flaml.automl.logger: 06-05 19:51:32] {2392} INFO -  at 1.1s,\testimator lgbm's best error=0.0518,\tbest estimator lgbm's best error=0.0518\n",
      "[flaml.automl.logger: 06-05 19:51:32] {2219} INFO - iteration 10, current learner extra_tree\n",
      "[flaml.automl.logger: 06-05 19:51:33] {2392} INFO -  at 1.4s,\testimator extra_tree's best error=0.4747,\tbest estimator lgbm's best error=0.0518\n",
      "[flaml.automl.logger: 06-05 19:51:33] {2219} INFO - iteration 11, current learner xgboost\n",
      "[flaml.automl.logger: 06-05 19:51:33] {2392} INFO -  at 1.5s,\testimator xgboost's best error=0.2348,\tbest estimator lgbm's best error=0.0518\n",
      "[flaml.automl.logger: 06-05 19:51:33] {2219} INFO - iteration 12, current learner rf\n",
      "[flaml.automl.logger: 06-05 19:51:33] {2392} INFO -  at 1.7s,\testimator rf's best error=0.4419,\tbest estimator lgbm's best error=0.0518\n",
      "[flaml.automl.logger: 06-05 19:51:33] {2219} INFO - iteration 13, current learner rf\n",
      "[flaml.automl.logger: 06-05 19:51:33] {2392} INFO -  at 1.9s,\testimator rf's best error=0.4419,\tbest estimator lgbm's best error=0.0518\n",
      "[flaml.automl.logger: 06-05 19:51:33] {2219} INFO - iteration 14, current learner lgbm\n",
      "[flaml.automl.logger: 06-05 19:51:33] {2392} INFO -  at 2.0s,\testimator lgbm's best error=0.0518,\tbest estimator lgbm's best error=0.0518\n",
      "[flaml.automl.logger: 06-05 19:51:33] {2219} INFO - iteration 15, current learner extra_tree\n",
      "[flaml.automl.logger: 06-05 19:51:33] {2392} INFO -  at 2.3s,\testimator extra_tree's best error=0.4331,\tbest estimator lgbm's best error=0.0518\n",
      "[flaml.automl.logger: 06-05 19:51:33] {2219} INFO - iteration 16, current learner lgbm\n",
      "[flaml.automl.logger: 06-05 19:51:34] {2392} INFO -  at 2.8s,\testimator lgbm's best error=0.0322,\tbest estimator lgbm's best error=0.0322\n",
      "[flaml.automl.logger: 06-05 19:51:34] {2219} INFO - iteration 17, current learner xgboost\n",
      "[flaml.automl.logger: 06-05 19:51:34] {2392} INFO -  at 3.0s,\testimator xgboost's best error=0.2348,\tbest estimator lgbm's best error=0.0322\n",
      "[flaml.automl.logger: 06-05 19:51:34] {2219} INFO - iteration 18, current learner lgbm\n",
      "[flaml.automl.logger: 06-05 19:51:35] {2392} INFO -  at 3.4s,\testimator lgbm's best error=0.0322,\tbest estimator lgbm's best error=0.0322\n",
      "[flaml.automl.logger: 06-05 19:51:35] {2219} INFO - iteration 19, current learner rf\n",
      "[flaml.automl.logger: 06-05 19:51:35] {2392} INFO -  at 3.7s,\testimator rf's best error=0.4419,\tbest estimator lgbm's best error=0.0322\n",
      "[flaml.automl.logger: 06-05 19:51:35] {2219} INFO - iteration 20, current learner lgbm\n",
      "[flaml.automl.logger: 06-05 19:51:35] {2392} INFO -  at 4.1s,\testimator lgbm's best error=0.0322,\tbest estimator lgbm's best error=0.0322\n",
      "[flaml.automl.logger: 06-05 19:51:35] {2219} INFO - iteration 21, current learner rf\n",
      "[flaml.automl.logger: 06-05 19:51:36] {2392} INFO -  at 4.6s,\testimator rf's best error=0.4375,\tbest estimator lgbm's best error=0.0322\n",
      "[flaml.automl.logger: 06-05 19:51:36] {2219} INFO - iteration 22, current learner lgbm\n",
      "[flaml.automl.logger: 06-05 19:51:36] {2392} INFO -  at 5.0s,\testimator lgbm's best error=0.0322,\tbest estimator lgbm's best error=0.0322\n",
      "[flaml.automl.logger: 06-05 19:51:36] {2219} INFO - iteration 23, current learner lgbm\n",
      "[flaml.automl.logger: 06-05 19:51:37] {2392} INFO -  at 5.9s,\testimator lgbm's best error=0.0297,\tbest estimator lgbm's best error=0.0297\n",
      "[flaml.automl.logger: 06-05 19:51:37] {2219} INFO - iteration 24, current learner extra_tree\n",
      "[flaml.automl.logger: 06-05 19:51:37] {2392} INFO -  at 6.2s,\testimator extra_tree's best error=0.4331,\tbest estimator lgbm's best error=0.0297\n",
      "[flaml.automl.logger: 06-05 19:51:37] {2219} INFO - iteration 25, current learner extra_tree\n",
      "[flaml.automl.logger: 06-05 19:51:38] {2392} INFO -  at 6.5s,\testimator extra_tree's best error=0.4331,\tbest estimator lgbm's best error=0.0297\n",
      "[flaml.automl.logger: 06-05 19:51:38] {2219} INFO - iteration 26, current learner lgbm\n",
      "[flaml.automl.logger: 06-05 19:51:38] {2392} INFO -  at 7.1s,\testimator lgbm's best error=0.0297,\tbest estimator lgbm's best error=0.0297\n",
      "[flaml.automl.logger: 06-05 19:51:38] {2219} INFO - iteration 27, current learner lgbm\n",
      "[flaml.automl.logger: 06-05 19:51:39] {2392} INFO -  at 7.8s,\testimator lgbm's best error=0.0297,\tbest estimator lgbm's best error=0.0297\n",
      "[flaml.automl.logger: 06-05 19:51:39] {2219} INFO - iteration 28, current learner xgboost\n",
      "[flaml.automl.logger: 06-05 19:51:39] {2392} INFO -  at 7.9s,\testimator xgboost's best error=0.2348,\tbest estimator lgbm's best error=0.0297\n",
      "[flaml.automl.logger: 06-05 19:51:39] {2219} INFO - iteration 29, current learner extra_tree\n",
      "[flaml.automl.logger: 06-05 19:51:39] {2392} INFO -  at 8.1s,\testimator extra_tree's best error=0.3838,\tbest estimator lgbm's best error=0.0297\n",
      "[flaml.automl.logger: 06-05 19:51:39] {2219} INFO - iteration 30, current learner lgbm\n",
      "[flaml.automl.logger: 06-05 19:51:41] {2392} INFO -  at 9.5s,\testimator lgbm's best error=0.0297,\tbest estimator lgbm's best error=0.0297\n",
      "[flaml.automl.logger: 06-05 19:51:41] {2219} INFO - iteration 31, current learner lgbm\n",
      "[flaml.automl.logger: 06-05 19:51:42] {2392} INFO -  at 10.5s,\testimator lgbm's best error=0.0297,\tbest estimator lgbm's best error=0.0297\n",
      "[flaml.automl.logger: 06-05 19:51:42] {2219} INFO - iteration 32, current learner lgbm\n",
      "[flaml.automl.logger: 06-05 19:51:42] {2392} INFO -  at 11.2s,\testimator lgbm's best error=0.0290,\tbest estimator lgbm's best error=0.0290\n",
      "[flaml.automl.logger: 06-05 19:51:42] {2219} INFO - iteration 33, current learner extra_tree\n",
      "[flaml.automl.logger: 06-05 19:51:43] {2392} INFO -  at 11.5s,\testimator extra_tree's best error=0.3838,\tbest estimator lgbm's best error=0.0290\n"
     ]
    },
    {
     "name": "stdout",
     "output_type": "stream",
     "text": [
      "[flaml.automl.logger: 06-05 19:51:43] {2219} INFO - iteration 34, current learner lgbm\n",
      "[flaml.automl.logger: 06-05 19:51:44] {2392} INFO -  at 12.7s,\testimator lgbm's best error=0.0290,\tbest estimator lgbm's best error=0.0290\n",
      "[flaml.automl.logger: 06-05 19:51:44] {2219} INFO - iteration 35, current learner lgbm\n",
      "[flaml.automl.logger: 06-05 19:51:44] {2392} INFO -  at 13.1s,\testimator lgbm's best error=0.0290,\tbest estimator lgbm's best error=0.0290\n",
      "[flaml.automl.logger: 06-05 19:51:44] {2219} INFO - iteration 36, current learner extra_tree\n",
      "[flaml.automl.logger: 06-05 19:51:45] {2392} INFO -  at 13.3s,\testimator extra_tree's best error=0.3094,\tbest estimator lgbm's best error=0.0290\n",
      "[flaml.automl.logger: 06-05 19:51:45] {2219} INFO - iteration 37, current learner xgboost\n",
      "[flaml.automl.logger: 06-05 19:51:45] {2392} INFO -  at 13.4s,\testimator xgboost's best error=0.1881,\tbest estimator lgbm's best error=0.0290\n",
      "[flaml.automl.logger: 06-05 19:51:45] {2219} INFO - iteration 38, current learner xgboost\n",
      "[flaml.automl.logger: 06-05 19:51:45] {2392} INFO -  at 13.5s,\testimator xgboost's best error=0.1881,\tbest estimator lgbm's best error=0.0290\n",
      "[flaml.automl.logger: 06-05 19:51:45] {2219} INFO - iteration 39, current learner xgboost\n",
      "[flaml.automl.logger: 06-05 19:51:45] {2392} INFO -  at 13.7s,\testimator xgboost's best error=0.1755,\tbest estimator lgbm's best error=0.0290\n",
      "[flaml.automl.logger: 06-05 19:51:45] {2219} INFO - iteration 40, current learner extra_tree\n",
      "[flaml.automl.logger: 06-05 19:51:45] {2392} INFO -  at 14.0s,\testimator extra_tree's best error=0.2702,\tbest estimator lgbm's best error=0.0290\n",
      "[flaml.automl.logger: 06-05 19:51:45] {2219} INFO - iteration 41, current learner extra_tree\n",
      "[flaml.automl.logger: 06-05 19:51:45] {2392} INFO -  at 14.2s,\testimator extra_tree's best error=0.2702,\tbest estimator lgbm's best error=0.0290\n",
      "[flaml.automl.logger: 06-05 19:51:45] {2219} INFO - iteration 42, current learner lgbm\n",
      "[flaml.automl.logger: 06-05 19:51:46] {2392} INFO -  at 14.6s,\testimator lgbm's best error=0.0290,\tbest estimator lgbm's best error=0.0290\n",
      "[flaml.automl.logger: 06-05 19:51:46] {2219} INFO - iteration 43, current learner extra_tree\n",
      "[flaml.automl.logger: 06-05 19:51:46] {2392} INFO -  at 14.9s,\testimator extra_tree's best error=0.2702,\tbest estimator lgbm's best error=0.0290\n",
      "[flaml.automl.logger: 06-05 19:51:46] {2219} INFO - iteration 44, current learner extra_tree\n",
      "[flaml.automl.logger: 06-05 19:51:46] {2392} INFO -  at 15.1s,\testimator extra_tree's best error=0.1919,\tbest estimator lgbm's best error=0.0290\n",
      "[flaml.automl.logger: 06-05 19:51:46] {2219} INFO - iteration 45, current learner extra_tree\n",
      "[flaml.automl.logger: 06-05 19:51:47] {2392} INFO -  at 15.6s,\testimator extra_tree's best error=0.1919,\tbest estimator lgbm's best error=0.0290\n",
      "[flaml.automl.logger: 06-05 19:51:47] {2219} INFO - iteration 46, current learner lgbm\n",
      "[flaml.automl.logger: 06-05 19:51:47] {2392} INFO -  at 15.8s,\testimator lgbm's best error=0.0290,\tbest estimator lgbm's best error=0.0290\n",
      "[flaml.automl.logger: 06-05 19:51:47] {2219} INFO - iteration 47, current learner extra_tree\n",
      "[flaml.automl.logger: 06-05 19:51:47] {2392} INFO -  at 16.2s,\testimator extra_tree's best error=0.1496,\tbest estimator lgbm's best error=0.0290\n",
      "[flaml.automl.logger: 06-05 19:51:47] {2219} INFO - iteration 48, current learner lgbm\n",
      "[flaml.automl.logger: 06-05 19:51:48] {2392} INFO -  at 16.5s,\testimator lgbm's best error=0.0290,\tbest estimator lgbm's best error=0.0290\n",
      "[flaml.automl.logger: 06-05 19:51:48] {2219} INFO - iteration 49, current learner xgboost\n",
      "[flaml.automl.logger: 06-05 19:51:48] {2392} INFO -  at 16.7s,\testimator xgboost's best error=0.1755,\tbest estimator lgbm's best error=0.0290\n",
      "[flaml.automl.logger: 06-05 19:51:48] {2219} INFO - iteration 50, current learner extra_tree\n",
      "[flaml.automl.logger: 06-05 19:51:48] {2392} INFO -  at 17.0s,\testimator extra_tree's best error=0.1427,\tbest estimator lgbm's best error=0.0290\n",
      "[flaml.automl.logger: 06-05 19:51:48] {2219} INFO - iteration 51, current learner lgbm\n",
      "[flaml.automl.logger: 06-05 19:51:49] {2392} INFO -  at 17.6s,\testimator lgbm's best error=0.0290,\tbest estimator lgbm's best error=0.0290\n",
      "[flaml.automl.logger: 06-05 19:51:49] {2219} INFO - iteration 52, current learner lgbm\n",
      "[flaml.automl.logger: 06-05 19:51:49] {2392} INFO -  at 17.8s,\testimator lgbm's best error=0.0290,\tbest estimator lgbm's best error=0.0290\n",
      "[flaml.automl.logger: 06-05 19:51:49] {2219} INFO - iteration 53, current learner lgbm\n",
      "[flaml.automl.logger: 06-05 19:51:49] {2392} INFO -  at 18.2s,\testimator lgbm's best error=0.0290,\tbest estimator lgbm's best error=0.0290\n",
      "[flaml.automl.logger: 06-05 19:51:49] {2219} INFO - iteration 54, current learner lgbm\n",
      "[flaml.automl.logger: 06-05 19:51:50] {2392} INFO -  at 18.4s,\testimator lgbm's best error=0.0290,\tbest estimator lgbm's best error=0.0290\n",
      "[flaml.automl.logger: 06-05 19:51:50] {2219} INFO - iteration 55, current learner xgboost\n",
      "[flaml.automl.logger: 06-05 19:51:50] {2392} INFO -  at 18.6s,\testimator xgboost's best error=0.1439,\tbest estimator lgbm's best error=0.0290\n",
      "[flaml.automl.logger: 06-05 19:51:50] {2219} INFO - iteration 56, current learner lgbm\n",
      "[flaml.automl.logger: 06-05 19:51:50] {2392} INFO -  at 18.8s,\testimator lgbm's best error=0.0290,\tbest estimator lgbm's best error=0.0290\n",
      "[flaml.automl.logger: 06-05 19:51:50] {2219} INFO - iteration 57, current learner lgbm\n",
      "[flaml.automl.logger: 06-05 19:51:50] {2392} INFO -  at 19.0s,\testimator lgbm's best error=0.0290,\tbest estimator lgbm's best error=0.0290\n",
      "[flaml.automl.logger: 06-05 19:51:50] {2219} INFO - iteration 58, current learner xgboost\n",
      "[flaml.automl.logger: 06-05 19:51:50] {2392} INFO -  at 19.2s,\testimator xgboost's best error=0.0922,\tbest estimator lgbm's best error=0.0290\n",
      "[flaml.automl.logger: 06-05 19:51:50] {2219} INFO - iteration 59, current learner lgbm\n",
      "[flaml.automl.logger: 06-05 19:51:51] {2392} INFO -  at 19.5s,\testimator lgbm's best error=0.0290,\tbest estimator lgbm's best error=0.0290\n",
      "[flaml.automl.logger: 06-05 19:51:51] {2219} INFO - iteration 60, current learner xgboost\n",
      "[flaml.automl.logger: 06-05 19:51:51] {2392} INFO -  at 19.6s,\testimator xgboost's best error=0.0922,\tbest estimator lgbm's best error=0.0290\n",
      "[flaml.automl.logger: 06-05 19:51:51] {2219} INFO - iteration 61, current learner rf\n",
      "[flaml.automl.logger: 06-05 19:51:51] {2392} INFO -  at 19.8s,\testimator rf's best error=0.4375,\tbest estimator lgbm's best error=0.0290\n",
      "[flaml.automl.logger: 06-05 19:51:51] {2219} INFO - iteration 62, current learner xgboost\n",
      "[flaml.automl.logger: 06-05 19:51:51] {2392} INFO -  at 20.0s,\testimator xgboost's best error=0.0922,\tbest estimator lgbm's best error=0.0290\n",
      "[flaml.automl.logger: 06-05 19:51:51] {2219} INFO - iteration 63, current learner xgboost\n",
      "[flaml.automl.logger: 06-05 19:51:51] {2392} INFO -  at 20.2s,\testimator xgboost's best error=0.0922,\tbest estimator lgbm's best error=0.0290\n",
      "[flaml.automl.logger: 06-05 19:51:51] {2219} INFO - iteration 64, current learner lgbm\n",
      "[flaml.automl.logger: 06-05 19:51:52] {2392} INFO -  at 20.7s,\testimator lgbm's best error=0.0290,\tbest estimator lgbm's best error=0.0290\n",
      "[flaml.automl.logger: 06-05 19:51:52] {2219} INFO - iteration 65, current learner xgboost\n",
      "[flaml.automl.logger: 06-05 19:51:52] {2392} INFO -  at 20.9s,\testimator xgboost's best error=0.0777,\tbest estimator lgbm's best error=0.0290\n",
      "[flaml.automl.logger: 06-05 19:51:52] {2219} INFO - iteration 66, current learner xgboost\n",
      "[flaml.automl.logger: 06-05 19:51:52] {2392} INFO -  at 21.2s,\testimator xgboost's best error=0.0777,\tbest estimator lgbm's best error=0.0290\n",
      "[flaml.automl.logger: 06-05 19:51:52] {2219} INFO - iteration 67, current learner lgbm\n",
      "[flaml.automl.logger: 06-05 19:51:53] {2392} INFO -  at 21.5s,\testimator lgbm's best error=0.0290,\tbest estimator lgbm's best error=0.0290\n",
      "[flaml.automl.logger: 06-05 19:51:53] {2219} INFO - iteration 68, current learner lgbm\n",
      "[flaml.automl.logger: 06-05 19:51:53] {2392} INFO -  at 21.8s,\testimator lgbm's best error=0.0290,\tbest estimator lgbm's best error=0.0290\n",
      "[flaml.automl.logger: 06-05 19:51:53] {2219} INFO - iteration 69, current learner xgboost\n",
      "[flaml.automl.logger: 06-05 19:51:53] {2392} INFO -  at 21.9s,\testimator xgboost's best error=0.0777,\tbest estimator lgbm's best error=0.0290\n"
     ]
    },
    {
     "name": "stdout",
     "output_type": "stream",
     "text": [
      "[flaml.automl.logger: 06-05 19:51:53] {2219} INFO - iteration 70, current learner xgboost\n",
      "[flaml.automl.logger: 06-05 19:51:53] {2392} INFO -  at 22.2s,\testimator xgboost's best error=0.0581,\tbest estimator lgbm's best error=0.0290\n",
      "[flaml.automl.logger: 06-05 19:51:53] {2219} INFO - iteration 71, current learner xgboost\n",
      "[flaml.automl.logger: 06-05 19:51:54] {2392} INFO -  at 22.4s,\testimator xgboost's best error=0.0581,\tbest estimator lgbm's best error=0.0290\n",
      "[flaml.automl.logger: 06-05 19:51:54] {2219} INFO - iteration 72, current learner extra_tree\n",
      "[flaml.automl.logger: 06-05 19:51:54] {2392} INFO -  at 22.9s,\testimator extra_tree's best error=0.1427,\tbest estimator lgbm's best error=0.0290\n",
      "[flaml.automl.logger: 06-05 19:51:54] {2219} INFO - iteration 73, current learner xgboost\n",
      "[flaml.automl.logger: 06-05 19:51:55] {2392} INFO -  at 23.5s,\testimator xgboost's best error=0.0537,\tbest estimator lgbm's best error=0.0290\n",
      "[flaml.automl.logger: 06-05 19:51:55] {2219} INFO - iteration 74, current learner extra_tree\n",
      "[flaml.automl.logger: 06-05 19:51:55] {2392} INFO -  at 23.7s,\testimator extra_tree's best error=0.1124,\tbest estimator lgbm's best error=0.0290\n",
      "[flaml.automl.logger: 06-05 19:51:55] {2219} INFO - iteration 75, current learner lgbm\n",
      "[flaml.automl.logger: 06-05 19:51:56] {2392} INFO -  at 24.4s,\testimator lgbm's best error=0.0290,\tbest estimator lgbm's best error=0.0290\n",
      "[flaml.automl.logger: 06-05 19:51:56] {2219} INFO - iteration 76, current learner lgbm\n",
      "[flaml.automl.logger: 06-05 19:51:56] {2392} INFO -  at 24.6s,\testimator lgbm's best error=0.0290,\tbest estimator lgbm's best error=0.0290\n",
      "[flaml.automl.logger: 06-05 19:51:56] {2219} INFO - iteration 77, current learner extra_tree\n",
      "[flaml.automl.logger: 06-05 19:51:56] {2392} INFO -  at 24.9s,\testimator extra_tree's best error=0.1124,\tbest estimator lgbm's best error=0.0290\n",
      "[flaml.automl.logger: 06-05 19:51:56] {2219} INFO - iteration 78, current learner xgboost\n",
      "[flaml.automl.logger: 06-05 19:51:56] {2392} INFO -  at 25.1s,\testimator xgboost's best error=0.0537,\tbest estimator lgbm's best error=0.0290\n",
      "[flaml.automl.logger: 06-05 19:51:56] {2219} INFO - iteration 79, current learner lgbm\n",
      "[flaml.automl.logger: 06-05 19:51:57] {2392} INFO -  at 25.6s,\testimator lgbm's best error=0.0290,\tbest estimator lgbm's best error=0.0290\n",
      "[flaml.automl.logger: 06-05 19:51:57] {2219} INFO - iteration 80, current learner extra_tree\n",
      "[flaml.automl.logger: 06-05 19:51:57] {2392} INFO -  at 26.0s,\testimator extra_tree's best error=0.1124,\tbest estimator lgbm's best error=0.0290\n",
      "[flaml.automl.logger: 06-05 19:51:57] {2219} INFO - iteration 81, current learner lgbm\n",
      "[flaml.automl.logger: 06-05 19:51:57] {2392} INFO -  at 26.1s,\testimator lgbm's best error=0.0290,\tbest estimator lgbm's best error=0.0290\n",
      "[flaml.automl.logger: 06-05 19:51:57] {2219} INFO - iteration 82, current learner extra_tree\n",
      "[flaml.automl.logger: 06-05 19:51:58] {2392} INFO -  at 26.6s,\testimator extra_tree's best error=0.0732,\tbest estimator lgbm's best error=0.0290\n",
      "[flaml.automl.logger: 06-05 19:51:58] {2219} INFO - iteration 83, current learner extra_tree\n",
      "[flaml.automl.logger: 06-05 19:51:58] {2392} INFO -  at 27.0s,\testimator extra_tree's best error=0.0732,\tbest estimator lgbm's best error=0.0290\n",
      "[flaml.automl.logger: 06-05 19:51:58] {2219} INFO - iteration 84, current learner extra_tree\n",
      "[flaml.automl.logger: 06-05 19:51:59] {2392} INFO -  at 27.3s,\testimator extra_tree's best error=0.0732,\tbest estimator lgbm's best error=0.0290\n",
      "[flaml.automl.logger: 06-05 19:51:59] {2219} INFO - iteration 85, current learner extra_tree\n",
      "[flaml.automl.logger: 06-05 19:51:59] {2392} INFO -  at 27.6s,\testimator extra_tree's best error=0.0732,\tbest estimator lgbm's best error=0.0290\n",
      "[flaml.automl.logger: 06-05 19:51:59] {2219} INFO - iteration 86, current learner extra_tree\n",
      "[flaml.automl.logger: 06-05 19:51:59] {2392} INFO -  at 28.0s,\testimator extra_tree's best error=0.0732,\tbest estimator lgbm's best error=0.0290\n",
      "[flaml.automl.logger: 06-05 19:51:59] {2219} INFO - iteration 87, current learner rf\n",
      "[flaml.automl.logger: 06-05 19:52:00] {2392} INFO -  at 28.5s,\testimator rf's best error=0.4267,\tbest estimator lgbm's best error=0.0290\n",
      "[flaml.automl.logger: 06-05 19:52:00] {2219} INFO - iteration 88, current learner lgbm\n",
      "[flaml.automl.logger: 06-05 19:52:00] {2392} INFO -  at 29.0s,\testimator lgbm's best error=0.0290,\tbest estimator lgbm's best error=0.0290\n",
      "[flaml.automl.logger: 06-05 19:52:00] {2219} INFO - iteration 89, current learner extra_tree\n",
      "[flaml.automl.logger: 06-05 19:52:01] {2392} INFO -  at 29.5s,\testimator extra_tree's best error=0.0732,\tbest estimator lgbm's best error=0.0290\n",
      "[flaml.automl.logger: 06-05 19:52:01] {2219} INFO - iteration 90, current learner xgboost\n",
      "[flaml.automl.logger: 06-05 19:52:02] {2392} INFO -  at 30.4s,\testimator xgboost's best error=0.0537,\tbest estimator lgbm's best error=0.0290\n",
      "[flaml.automl.logger: 06-05 19:52:02] {2219} INFO - iteration 91, current learner extra_tree\n",
      "[flaml.automl.logger: 06-05 19:52:02] {2392} INFO -  at 30.7s,\testimator extra_tree's best error=0.0732,\tbest estimator lgbm's best error=0.0290\n",
      "[flaml.automl.logger: 06-05 19:52:02] {2219} INFO - iteration 92, current learner xgb_limitdepth\n",
      "[flaml.automl.logger: 06-05 19:52:02] {2392} INFO -  at 30.9s,\testimator xgb_limitdepth's best error=0.0568,\tbest estimator lgbm's best error=0.0290\n",
      "[flaml.automl.logger: 06-05 19:52:02] {2219} INFO - iteration 93, current learner xgb_limitdepth\n",
      "[flaml.automl.logger: 06-05 19:52:02] {2392} INFO -  at 31.1s,\testimator xgb_limitdepth's best error=0.0568,\tbest estimator lgbm's best error=0.0290\n",
      "[flaml.automl.logger: 06-05 19:52:02] {2219} INFO - iteration 94, current learner xgb_limitdepth\n",
      "[flaml.automl.logger: 06-05 19:52:03] {2392} INFO -  at 31.4s,\testimator xgb_limitdepth's best error=0.0417,\tbest estimator lgbm's best error=0.0290\n",
      "[flaml.automl.logger: 06-05 19:52:03] {2219} INFO - iteration 95, current learner extra_tree\n",
      "[flaml.automl.logger: 06-05 19:52:03] {2392} INFO -  at 31.9s,\testimator extra_tree's best error=0.0732,\tbest estimator lgbm's best error=0.0290\n",
      "[flaml.automl.logger: 06-05 19:52:03] {2219} INFO - iteration 96, current learner xgb_limitdepth\n",
      "[flaml.automl.logger: 06-05 19:52:03] {2392} INFO -  at 32.1s,\testimator xgb_limitdepth's best error=0.0417,\tbest estimator lgbm's best error=0.0290\n",
      "[flaml.automl.logger: 06-05 19:52:03] {2219} INFO - iteration 97, current learner xgb_limitdepth\n",
      "[flaml.automl.logger: 06-05 19:52:04] {2392} INFO -  at 32.3s,\testimator xgb_limitdepth's best error=0.0417,\tbest estimator lgbm's best error=0.0290\n",
      "[flaml.automl.logger: 06-05 19:52:04] {2219} INFO - iteration 98, current learner xgb_limitdepth\n",
      "[flaml.automl.logger: 06-05 19:52:04] {2392} INFO -  at 32.5s,\testimator xgb_limitdepth's best error=0.0417,\tbest estimator lgbm's best error=0.0290\n",
      "[flaml.automl.logger: 06-05 19:52:04] {2219} INFO - iteration 99, current learner xgb_limitdepth\n",
      "[flaml.automl.logger: 06-05 19:52:04] {2392} INFO -  at 32.7s,\testimator xgb_limitdepth's best error=0.0391,\tbest estimator lgbm's best error=0.0290\n",
      "[flaml.automl.logger: 06-05 19:52:04] {2219} INFO - iteration 100, current learner lgbm\n",
      "[flaml.automl.logger: 06-05 19:52:04] {2392} INFO -  at 32.9s,\testimator lgbm's best error=0.0290,\tbest estimator lgbm's best error=0.0290\n",
      "[flaml.automl.logger: 06-05 19:52:04] {2219} INFO - iteration 101, current learner xgb_limitdepth\n",
      "[flaml.automl.logger: 06-05 19:52:04] {2392} INFO -  at 33.2s,\testimator xgb_limitdepth's best error=0.0391,\tbest estimator lgbm's best error=0.0290\n",
      "[flaml.automl.logger: 06-05 19:52:04] {2219} INFO - iteration 102, current learner extra_tree\n",
      "[flaml.automl.logger: 06-05 19:52:05] {2392} INFO -  at 33.7s,\testimator extra_tree's best error=0.0675,\tbest estimator lgbm's best error=0.0290\n",
      "[flaml.automl.logger: 06-05 19:52:05] {2219} INFO - iteration 103, current learner lgbm\n",
      "[flaml.automl.logger: 06-05 19:52:05] {2392} INFO -  at 33.8s,\testimator lgbm's best error=0.0290,\tbest estimator lgbm's best error=0.0290\n",
      "[flaml.automl.logger: 06-05 19:52:05] {2219} INFO - iteration 104, current learner extra_tree\n",
      "[flaml.automl.logger: 06-05 19:52:05] {2392} INFO -  at 34.1s,\testimator extra_tree's best error=0.0675,\tbest estimator lgbm's best error=0.0290\n"
     ]
    },
    {
     "name": "stdout",
     "output_type": "stream",
     "text": [
      "[flaml.automl.logger: 06-05 19:52:05] {2219} INFO - iteration 105, current learner lgbm\n",
      "[flaml.automl.logger: 06-05 19:52:06] {2392} INFO -  at 35.1s,\testimator lgbm's best error=0.0290,\tbest estimator lgbm's best error=0.0290\n",
      "[flaml.automl.logger: 06-05 19:52:06] {2219} INFO - iteration 106, current learner xgboost\n",
      "[flaml.automl.logger: 06-05 19:52:07] {2392} INFO -  at 35.5s,\testimator xgboost's best error=0.0537,\tbest estimator lgbm's best error=0.0290\n",
      "[flaml.automl.logger: 06-05 19:52:07] {2219} INFO - iteration 107, current learner xgb_limitdepth\n",
      "[flaml.automl.logger: 06-05 19:52:07] {2392} INFO -  at 35.8s,\testimator xgb_limitdepth's best error=0.0391,\tbest estimator lgbm's best error=0.0290\n",
      "[flaml.automl.logger: 06-05 19:52:07] {2219} INFO - iteration 108, current learner lgbm\n",
      "[flaml.automl.logger: 06-05 19:52:08] {2392} INFO -  at 36.4s,\testimator lgbm's best error=0.0290,\tbest estimator lgbm's best error=0.0290\n",
      "[flaml.automl.logger: 06-05 19:52:08] {2219} INFO - iteration 109, current learner xgb_limitdepth\n",
      "[flaml.automl.logger: 06-05 19:52:08] {2392} INFO -  at 36.7s,\testimator xgb_limitdepth's best error=0.0391,\tbest estimator lgbm's best error=0.0290\n",
      "[flaml.automl.logger: 06-05 19:52:08] {2219} INFO - iteration 110, current learner xgboost\n",
      "[flaml.automl.logger: 06-05 19:52:09] {2392} INFO -  at 37.4s,\testimator xgboost's best error=0.0537,\tbest estimator lgbm's best error=0.0290\n",
      "[flaml.automl.logger: 06-05 19:52:09] {2219} INFO - iteration 111, current learner lgbm\n",
      "[flaml.automl.logger: 06-05 19:52:09] {2392} INFO -  at 37.6s,\testimator lgbm's best error=0.0290,\tbest estimator lgbm's best error=0.0290\n",
      "[flaml.automl.logger: 06-05 19:52:09] {2219} INFO - iteration 112, current learner xgb_limitdepth\n",
      "[flaml.automl.logger: 06-05 19:52:09] {2392} INFO -  at 37.9s,\testimator xgb_limitdepth's best error=0.0391,\tbest estimator lgbm's best error=0.0290\n",
      "[flaml.automl.logger: 06-05 19:52:09] {2219} INFO - iteration 113, current learner rf\n",
      "[flaml.automl.logger: 06-05 19:52:09] {2392} INFO -  at 38.2s,\testimator rf's best error=0.3599,\tbest estimator lgbm's best error=0.0290\n",
      "[flaml.automl.logger: 06-05 19:52:09] {2219} INFO - iteration 114, current learner extra_tree\n",
      "[flaml.automl.logger: 06-05 19:52:10] {2392} INFO -  at 38.4s,\testimator extra_tree's best error=0.0675,\tbest estimator lgbm's best error=0.0290\n",
      "[flaml.automl.logger: 06-05 19:52:10] {2219} INFO - iteration 115, current learner lgbm\n",
      "[flaml.automl.logger: 06-05 19:52:10] {2392} INFO -  at 38.5s,\testimator lgbm's best error=0.0290,\tbest estimator lgbm's best error=0.0290\n",
      "[flaml.automl.logger: 06-05 19:52:10] {2219} INFO - iteration 116, current learner lgbm\n",
      "[flaml.automl.logger: 06-05 19:52:10] {2392} INFO -  at 39.1s,\testimator lgbm's best error=0.0290,\tbest estimator lgbm's best error=0.0290\n",
      "[flaml.automl.logger: 06-05 19:52:10] {2219} INFO - iteration 117, current learner xgboost\n",
      "[flaml.automl.logger: 06-05 19:52:11] {2392} INFO -  at 39.6s,\testimator xgboost's best error=0.0537,\tbest estimator lgbm's best error=0.0290\n",
      "[flaml.automl.logger: 06-05 19:52:11] {2219} INFO - iteration 118, current learner rf\n",
      "[flaml.automl.logger: 06-05 19:52:11] {2392} INFO -  at 40.0s,\testimator rf's best error=0.3599,\tbest estimator lgbm's best error=0.0290\n",
      "[flaml.automl.logger: 06-05 19:52:11] {2219} INFO - iteration 119, current learner lgbm\n",
      "[flaml.automl.logger: 06-05 19:52:11] {2392} INFO -  at 40.2s,\testimator lgbm's best error=0.0290,\tbest estimator lgbm's best error=0.0290\n",
      "[flaml.automl.logger: 06-05 19:52:11] {2219} INFO - iteration 120, current learner rf\n",
      "[flaml.automl.logger: 06-05 19:52:12] {2392} INFO -  at 40.4s,\testimator rf's best error=0.3599,\tbest estimator lgbm's best error=0.0290\n",
      "[flaml.automl.logger: 06-05 19:52:12] {2219} INFO - iteration 121, current learner rf\n",
      "[flaml.automl.logger: 06-05 19:52:12] {2392} INFO -  at 40.7s,\testimator rf's best error=0.3599,\tbest estimator lgbm's best error=0.0290\n",
      "[flaml.automl.logger: 06-05 19:52:12] {2219} INFO - iteration 122, current learner extra_tree\n",
      "[flaml.automl.logger: 06-05 19:52:12] {2392} INFO -  at 41.1s,\testimator extra_tree's best error=0.0568,\tbest estimator lgbm's best error=0.0290\n",
      "[flaml.automl.logger: 06-05 19:52:12] {2219} INFO - iteration 123, current learner extra_tree\n",
      "[flaml.automl.logger: 06-05 19:52:13] {2392} INFO -  at 41.5s,\testimator extra_tree's best error=0.0568,\tbest estimator lgbm's best error=0.0290\n",
      "[flaml.automl.logger: 06-05 19:52:13] {2219} INFO - iteration 124, current learner lgbm\n",
      "[flaml.automl.logger: 06-05 19:52:14] {2392} INFO -  at 42.3s,\testimator lgbm's best error=0.0284,\tbest estimator lgbm's best error=0.0284\n",
      "[flaml.automl.logger: 06-05 19:52:14] {2219} INFO - iteration 125, current learner lgbm\n",
      "[flaml.automl.logger: 06-05 19:52:14] {2392} INFO -  at 42.6s,\testimator lgbm's best error=0.0284,\tbest estimator lgbm's best error=0.0284\n",
      "[flaml.automl.logger: 06-05 19:52:14] {2219} INFO - iteration 126, current learner lgbm\n",
      "[flaml.automl.logger: 06-05 19:52:16] {2392} INFO -  at 44.7s,\testimator lgbm's best error=0.0278,\tbest estimator lgbm's best error=0.0278\n",
      "[flaml.automl.logger: 06-05 19:52:16] {2219} INFO - iteration 127, current learner lgbm\n",
      "[flaml.automl.logger: 06-05 19:52:21] {2392} INFO -  at 50.2s,\testimator lgbm's best error=0.0278,\tbest estimator lgbm's best error=0.0278\n",
      "[flaml.automl.logger: 06-05 19:52:21] {2219} INFO - iteration 128, current learner lgbm\n",
      "[flaml.automl.logger: 06-05 19:52:22] {2392} INFO -  at 51.0s,\testimator lgbm's best error=0.0278,\tbest estimator lgbm's best error=0.0278\n",
      "[flaml.automl.logger: 06-05 19:52:22] {2219} INFO - iteration 129, current learner extra_tree\n",
      "[flaml.automl.logger: 06-05 19:52:23] {2392} INFO -  at 51.4s,\testimator extra_tree's best error=0.0543,\tbest estimator lgbm's best error=0.0278\n",
      "[flaml.automl.logger: 06-05 19:52:23] {2219} INFO - iteration 130, current learner rf\n",
      "[flaml.automl.logger: 06-05 19:52:23] {2392} INFO -  at 51.7s,\testimator rf's best error=0.3100,\tbest estimator lgbm's best error=0.0278\n",
      "[flaml.automl.logger: 06-05 19:52:23] {2219} INFO - iteration 131, current learner rf\n",
      "[flaml.automl.logger: 06-05 19:52:23] {2392} INFO -  at 52.0s,\testimator rf's best error=0.3100,\tbest estimator lgbm's best error=0.0278\n",
      "[flaml.automl.logger: 06-05 19:52:23] {2219} INFO - iteration 132, current learner extra_tree\n",
      "[flaml.automl.logger: 06-05 19:52:24] {2392} INFO -  at 52.4s,\testimator extra_tree's best error=0.0543,\tbest estimator lgbm's best error=0.0278\n",
      "[flaml.automl.logger: 06-05 19:52:24] {2219} INFO - iteration 133, current learner lgbm\n",
      "[flaml.automl.logger: 06-05 19:52:28] {2392} INFO -  at 57.2s,\testimator lgbm's best error=0.0278,\tbest estimator lgbm's best error=0.0278\n",
      "[flaml.automl.logger: 06-05 19:52:28] {2219} INFO - iteration 134, current learner lgbm\n",
      "[flaml.automl.logger: 06-05 19:52:29] {2392} INFO -  at 58.0s,\testimator lgbm's best error=0.0278,\tbest estimator lgbm's best error=0.0278\n",
      "[flaml.automl.logger: 06-05 19:52:29] {2219} INFO - iteration 135, current learner rf\n",
      "[flaml.automl.logger: 06-05 19:52:30] {2392} INFO -  at 58.5s,\testimator rf's best error=0.2614,\tbest estimator lgbm's best error=0.0278\n",
      "[flaml.automl.logger: 06-05 19:52:30] {2219} INFO - iteration 136, current learner extra_tree\n",
      "[flaml.automl.logger: 06-05 19:52:30] {2392} INFO -  at 58.8s,\testimator extra_tree's best error=0.0543,\tbest estimator lgbm's best error=0.0278\n",
      "[flaml.automl.logger: 06-05 19:52:30] {2219} INFO - iteration 137, current learner rf\n",
      "[flaml.automl.logger: 06-05 19:52:30] {2392} INFO -  at 59.0s,\testimator rf's best error=0.2614,\tbest estimator lgbm's best error=0.0278\n",
      "[flaml.automl.logger: 06-05 19:52:30] {2219} INFO - iteration 138, current learner lgbm\n",
      "[flaml.automl.logger: 06-05 19:52:34] {2392} INFO -  at 62.3s,\testimator lgbm's best error=0.0278,\tbest estimator lgbm's best error=0.0278\n",
      "[flaml.automl.logger: 06-05 19:52:34] {2219} INFO - iteration 139, current learner xgboost\n",
      "[flaml.automl.logger: 06-05 19:52:35] {2392} INFO -  at 63.4s,\testimator xgboost's best error=0.0537,\tbest estimator lgbm's best error=0.0278\n",
      "[flaml.automl.logger: 06-05 19:52:35] {2219} INFO - iteration 140, current learner lgbm\n",
      "[flaml.automl.logger: 06-05 19:52:38] {2392} INFO -  at 66.3s,\testimator lgbm's best error=0.0278,\tbest estimator lgbm's best error=0.0278\n"
     ]
    },
    {
     "name": "stdout",
     "output_type": "stream",
     "text": [
      "[flaml.automl.logger: 06-05 19:52:38] {2219} INFO - iteration 141, current learner xgboost\n",
      "[flaml.automl.logger: 06-05 19:52:38] {2392} INFO -  at 66.5s,\testimator xgboost's best error=0.0537,\tbest estimator lgbm's best error=0.0278\n",
      "[flaml.automl.logger: 06-05 19:52:38] {2219} INFO - iteration 142, current learner rf\n",
      "[flaml.automl.logger: 06-05 19:52:38] {2392} INFO -  at 67.1s,\testimator rf's best error=0.2519,\tbest estimator lgbm's best error=0.0278\n",
      "[flaml.automl.logger: 06-05 19:52:38] {2219} INFO - iteration 143, current learner extra_tree\n",
      "[flaml.automl.logger: 06-05 19:52:39] {2392} INFO -  at 67.6s,\testimator extra_tree's best error=0.0530,\tbest estimator lgbm's best error=0.0278\n",
      "[flaml.automl.logger: 06-05 19:52:39] {2219} INFO - iteration 144, current learner xgboost\n",
      "[flaml.automl.logger: 06-05 19:52:40] {2392} INFO -  at 68.5s,\testimator xgboost's best error=0.0537,\tbest estimator lgbm's best error=0.0278\n",
      "[flaml.automl.logger: 06-05 19:52:40] {2219} INFO - iteration 145, current learner rf\n",
      "[flaml.automl.logger: 06-05 19:52:40] {2392} INFO -  at 69.0s,\testimator rf's best error=0.1894,\tbest estimator lgbm's best error=0.0278\n",
      "[flaml.automl.logger: 06-05 19:52:40] {2219} INFO - iteration 146, current learner rf\n",
      "[flaml.automl.logger: 06-05 19:52:41] {2392} INFO -  at 69.5s,\testimator rf's best error=0.1894,\tbest estimator lgbm's best error=0.0278\n",
      "[flaml.automl.logger: 06-05 19:52:41] {2219} INFO - iteration 147, current learner lgbm\n",
      "[flaml.automl.logger: 06-05 19:52:45] {2392} INFO -  at 73.9s,\testimator lgbm's best error=0.0278,\tbest estimator lgbm's best error=0.0278\n",
      "[flaml.automl.logger: 06-05 19:52:45] {2219} INFO - iteration 148, current learner lgbm\n",
      "[flaml.automl.logger: 06-05 19:52:47] {2392} INFO -  at 75.6s,\testimator lgbm's best error=0.0278,\tbest estimator lgbm's best error=0.0278\n",
      "[flaml.automl.logger: 06-05 19:52:47] {2219} INFO - iteration 149, current learner lgbm\n",
      "[flaml.automl.logger: 06-05 19:52:50] {2392} INFO -  at 78.3s,\testimator lgbm's best error=0.0259,\tbest estimator lgbm's best error=0.0259\n",
      "[flaml.automl.logger: 06-05 19:52:50] {2219} INFO - iteration 150, current learner lgbm\n",
      "[flaml.automl.logger: 06-05 19:52:52] {2392} INFO -  at 80.6s,\testimator lgbm's best error=0.0259,\tbest estimator lgbm's best error=0.0259\n",
      "[flaml.automl.logger: 06-05 19:52:52] {2219} INFO - iteration 151, current learner rf\n",
      "[flaml.automl.logger: 06-05 19:52:52] {2392} INFO -  at 80.9s,\testimator rf's best error=0.1894,\tbest estimator lgbm's best error=0.0259\n",
      "[flaml.automl.logger: 06-05 19:52:52] {2219} INFO - iteration 152, current learner rf\n",
      "[flaml.automl.logger: 06-05 19:52:53] {2392} INFO -  at 81.5s,\testimator rf's best error=0.1414,\tbest estimator lgbm's best error=0.0259\n",
      "[flaml.automl.logger: 06-05 19:52:53] {2219} INFO - iteration 153, current learner rf\n",
      "[flaml.automl.logger: 06-05 19:52:54] {2392} INFO -  at 82.3s,\testimator rf's best error=0.1061,\tbest estimator lgbm's best error=0.0259\n",
      "[flaml.automl.logger: 06-05 19:52:54] {2219} INFO - iteration 154, current learner lgbm\n",
      "[flaml.automl.logger: 06-05 19:52:59] {2392} INFO -  at 87.6s,\testimator lgbm's best error=0.0259,\tbest estimator lgbm's best error=0.0259\n",
      "[flaml.automl.logger: 06-05 19:52:59] {2219} INFO - iteration 155, current learner lgbm\n",
      "[flaml.automl.logger: 06-05 19:53:00] {2392} INFO -  at 88.7s,\testimator lgbm's best error=0.0259,\tbest estimator lgbm's best error=0.0259\n",
      "[flaml.automl.logger: 06-05 19:53:00] {2219} INFO - iteration 156, current learner extra_tree\n",
      "[flaml.automl.logger: 06-05 19:53:00] {2392} INFO -  at 89.2s,\testimator extra_tree's best error=0.0530,\tbest estimator lgbm's best error=0.0259\n",
      "[flaml.automl.logger: 06-05 19:53:00] {2219} INFO - iteration 157, current learner rf\n",
      "[flaml.automl.logger: 06-05 19:53:01] {2392} INFO -  at 89.9s,\testimator rf's best error=0.1061,\tbest estimator lgbm's best error=0.0259\n",
      "[flaml.automl.logger: 06-05 19:53:01] {2219} INFO - iteration 158, current learner rf\n",
      "[flaml.automl.logger: 06-05 19:53:02] {2392} INFO -  at 90.7s,\testimator rf's best error=0.1061,\tbest estimator lgbm's best error=0.0259\n",
      "[flaml.automl.logger: 06-05 19:53:02] {2219} INFO - iteration 159, current learner rf\n",
      "[flaml.automl.logger: 06-05 19:53:03] {2392} INFO -  at 91.5s,\testimator rf's best error=0.0928,\tbest estimator lgbm's best error=0.0259\n",
      "[flaml.automl.logger: 06-05 19:53:03] {2219} INFO - iteration 160, current learner lrl1\n"
     ]
    },
    {
     "name": "stderr",
     "output_type": "stream",
     "text": [
      "C:\\Users\\IAmAlight\\anaconda3\\envs\\Ai\\Lib\\site-packages\\sklearn\\linear_model\\_sag.py:350: ConvergenceWarning: The max_iter was reached which means the coef_ did not converge\n",
      "  warnings.warn(\n",
      "C:\\Users\\IAmAlight\\anaconda3\\envs\\Ai\\Lib\\site-packages\\sklearn\\linear_model\\_sag.py:350: ConvergenceWarning: The max_iter was reached which means the coef_ did not converge\n",
      "  warnings.warn(\n",
      "C:\\Users\\IAmAlight\\anaconda3\\envs\\Ai\\Lib\\site-packages\\sklearn\\linear_model\\_sag.py:350: ConvergenceWarning: The max_iter was reached which means the coef_ did not converge\n",
      "  warnings.warn(\n"
     ]
    },
    {
     "name": "stdout",
     "output_type": "stream",
     "text": [
      "[flaml.automl.logger: 06-05 19:53:04] {2392} INFO -  at 92.6s,\testimator lrl1's best error=0.3744,\tbest estimator lgbm's best error=0.0259\n"
     ]
    },
    {
     "name": "stderr",
     "output_type": "stream",
     "text": [
      "C:\\Users\\IAmAlight\\anaconda3\\envs\\Ai\\Lib\\site-packages\\sklearn\\linear_model\\_sag.py:350: ConvergenceWarning: The max_iter was reached which means the coef_ did not converge\n",
      "  warnings.warn(\n",
      "C:\\Users\\IAmAlight\\anaconda3\\envs\\Ai\\Lib\\site-packages\\sklearn\\linear_model\\_sag.py:350: ConvergenceWarning: The max_iter was reached which means the coef_ did not converge\n",
      "  warnings.warn(\n"
     ]
    },
    {
     "name": "stdout",
     "output_type": "stream",
     "text": [
      "[flaml.automl.logger: 06-05 19:53:04] {2219} INFO - iteration 161, current learner lrl1\n"
     ]
    },
    {
     "name": "stderr",
     "output_type": "stream",
     "text": [
      "C:\\Users\\IAmAlight\\anaconda3\\envs\\Ai\\Lib\\site-packages\\sklearn\\linear_model\\_sag.py:350: ConvergenceWarning: The max_iter was reached which means the coef_ did not converge\n",
      "  warnings.warn(\n",
      "C:\\Users\\IAmAlight\\anaconda3\\envs\\Ai\\Lib\\site-packages\\sklearn\\linear_model\\_sag.py:350: ConvergenceWarning: The max_iter was reached which means the coef_ did not converge\n",
      "  warnings.warn(\n",
      "C:\\Users\\IAmAlight\\anaconda3\\envs\\Ai\\Lib\\site-packages\\sklearn\\linear_model\\_sag.py:350: ConvergenceWarning: The max_iter was reached which means the coef_ did not converge\n",
      "  warnings.warn(\n",
      "C:\\Users\\IAmAlight\\anaconda3\\envs\\Ai\\Lib\\site-packages\\sklearn\\linear_model\\_sag.py:350: ConvergenceWarning: The max_iter was reached which means the coef_ did not converge\n",
      "  warnings.warn(\n"
     ]
    },
    {
     "name": "stdout",
     "output_type": "stream",
     "text": [
      "[flaml.automl.logger: 06-05 19:53:05] {2392} INFO -  at 93.4s,\testimator lrl1's best error=0.3744,\tbest estimator lgbm's best error=0.0259\n",
      "[flaml.automl.logger: 06-05 19:53:05] {2219} INFO - iteration 162, current learner rf\n"
     ]
    },
    {
     "name": "stderr",
     "output_type": "stream",
     "text": [
      "C:\\Users\\IAmAlight\\anaconda3\\envs\\Ai\\Lib\\site-packages\\sklearn\\linear_model\\_sag.py:350: ConvergenceWarning: The max_iter was reached which means the coef_ did not converge\n",
      "  warnings.warn(\n"
     ]
    },
    {
     "name": "stdout",
     "output_type": "stream",
     "text": [
      "[flaml.automl.logger: 06-05 19:53:05] {2392} INFO -  at 94.2s,\testimator rf's best error=0.0928,\tbest estimator lgbm's best error=0.0259\n",
      "[flaml.automl.logger: 06-05 19:53:05] {2219} INFO - iteration 163, current learner lrl1\n"
     ]
    },
    {
     "name": "stderr",
     "output_type": "stream",
     "text": [
      "C:\\Users\\IAmAlight\\anaconda3\\envs\\Ai\\Lib\\site-packages\\sklearn\\linear_model\\_sag.py:350: ConvergenceWarning: The max_iter was reached which means the coef_ did not converge\n",
      "  warnings.warn(\n",
      "C:\\Users\\IAmAlight\\anaconda3\\envs\\Ai\\Lib\\site-packages\\sklearn\\linear_model\\_sag.py:350: ConvergenceWarning: The max_iter was reached which means the coef_ did not converge\n",
      "  warnings.warn(\n",
      "C:\\Users\\IAmAlight\\anaconda3\\envs\\Ai\\Lib\\site-packages\\sklearn\\linear_model\\_sag.py:350: ConvergenceWarning: The max_iter was reached which means the coef_ did not converge\n",
      "  warnings.warn(\n",
      "C:\\Users\\IAmAlight\\anaconda3\\envs\\Ai\\Lib\\site-packages\\sklearn\\linear_model\\_sag.py:350: ConvergenceWarning: The max_iter was reached which means the coef_ did not converge\n",
      "  warnings.warn(\n"
     ]
    },
    {
     "name": "stdout",
     "output_type": "stream",
     "text": [
      "[flaml.automl.logger: 06-05 19:53:06] {2392} INFO -  at 95.1s,\testimator lrl1's best error=0.3744,\tbest estimator lgbm's best error=0.0259\n",
      "[flaml.automl.logger: 06-05 19:53:06] {2219} INFO - iteration 164, current learner lrl1\n"
     ]
    },
    {
     "name": "stderr",
     "output_type": "stream",
     "text": [
      "C:\\Users\\IAmAlight\\anaconda3\\envs\\Ai\\Lib\\site-packages\\sklearn\\linear_model\\_sag.py:350: ConvergenceWarning: The max_iter was reached which means the coef_ did not converge\n",
      "  warnings.warn(\n",
      "C:\\Users\\IAmAlight\\anaconda3\\envs\\Ai\\Lib\\site-packages\\sklearn\\linear_model\\_sag.py:350: ConvergenceWarning: The max_iter was reached which means the coef_ did not converge\n",
      "  warnings.warn(\n",
      "C:\\Users\\IAmAlight\\anaconda3\\envs\\Ai\\Lib\\site-packages\\sklearn\\linear_model\\_sag.py:350: ConvergenceWarning: The max_iter was reached which means the coef_ did not converge\n",
      "  warnings.warn(\n",
      "C:\\Users\\IAmAlight\\anaconda3\\envs\\Ai\\Lib\\site-packages\\sklearn\\linear_model\\_sag.py:350: ConvergenceWarning: The max_iter was reached which means the coef_ did not converge\n",
      "  warnings.warn(\n"
     ]
    },
    {
     "name": "stdout",
     "output_type": "stream",
     "text": [
      "[flaml.automl.logger: 06-05 19:53:07] {2392} INFO -  at 95.9s,\testimator lrl1's best error=0.3744,\tbest estimator lgbm's best error=0.0259\n"
     ]
    },
    {
     "name": "stderr",
     "output_type": "stream",
     "text": [
      "C:\\Users\\IAmAlight\\anaconda3\\envs\\Ai\\Lib\\site-packages\\sklearn\\linear_model\\_sag.py:350: ConvergenceWarning: The max_iter was reached which means the coef_ did not converge\n",
      "  warnings.warn(\n",
      "C:\\Users\\IAmAlight\\anaconda3\\envs\\Ai\\Lib\\site-packages\\sklearn\\linear_model\\_sag.py:350: ConvergenceWarning: The max_iter was reached which means the coef_ did not converge\n",
      "  warnings.warn(\n"
     ]
    },
    {
     "name": "stdout",
     "output_type": "stream",
     "text": [
      "[flaml.automl.logger: 06-05 19:53:07] {2219} INFO - iteration 165, current learner lrl1\n"
     ]
    },
    {
     "name": "stderr",
     "output_type": "stream",
     "text": [
      "C:\\Users\\IAmAlight\\anaconda3\\envs\\Ai\\Lib\\site-packages\\sklearn\\linear_model\\_sag.py:350: ConvergenceWarning: The max_iter was reached which means the coef_ did not converge\n",
      "  warnings.warn(\n",
      "C:\\Users\\IAmAlight\\anaconda3\\envs\\Ai\\Lib\\site-packages\\sklearn\\linear_model\\_sag.py:350: ConvergenceWarning: The max_iter was reached which means the coef_ did not converge\n",
      "  warnings.warn(\n",
      "C:\\Users\\IAmAlight\\anaconda3\\envs\\Ai\\Lib\\site-packages\\sklearn\\linear_model\\_sag.py:350: ConvergenceWarning: The max_iter was reached which means the coef_ did not converge\n",
      "  warnings.warn(\n",
      "C:\\Users\\IAmAlight\\anaconda3\\envs\\Ai\\Lib\\site-packages\\sklearn\\linear_model\\_sag.py:350: ConvergenceWarning: The max_iter was reached which means the coef_ did not converge\n",
      "  warnings.warn(\n"
     ]
    },
    {
     "name": "stdout",
     "output_type": "stream",
     "text": [
      "[flaml.automl.logger: 06-05 19:53:08] {2392} INFO -  at 96.8s,\testimator lrl1's best error=0.3744,\tbest estimator lgbm's best error=0.0259\n",
      "[flaml.automl.logger: 06-05 19:53:08] {2219} INFO - iteration 166, current learner lgbm\n"
     ]
    },
    {
     "name": "stderr",
     "output_type": "stream",
     "text": [
      "C:\\Users\\IAmAlight\\anaconda3\\envs\\Ai\\Lib\\site-packages\\sklearn\\linear_model\\_sag.py:350: ConvergenceWarning: The max_iter was reached which means the coef_ did not converge\n",
      "  warnings.warn(\n"
     ]
    },
    {
     "name": "stdout",
     "output_type": "stream",
     "text": [
      "[flaml.automl.logger: 06-05 19:53:12] {2392} INFO -  at 100.8s,\testimator lgbm's best error=0.0259,\tbest estimator lgbm's best error=0.0259\n",
      "[flaml.automl.logger: 06-05 19:53:12] {2219} INFO - iteration 167, current learner rf\n",
      "[flaml.automl.logger: 06-05 19:53:12] {2392} INFO -  at 101.2s,\testimator rf's best error=0.0846,\tbest estimator lgbm's best error=0.0259\n",
      "[flaml.automl.logger: 06-05 19:53:12] {2219} INFO - iteration 168, current learner rf\n",
      "[flaml.automl.logger: 06-05 19:53:13] {2392} INFO -  at 101.7s,\testimator rf's best error=0.0846,\tbest estimator lgbm's best error=0.0259\n",
      "[flaml.automl.logger: 06-05 19:53:13] {2219} INFO - iteration 169, current learner xgboost\n",
      "[flaml.automl.logger: 06-05 19:53:13] {2392} INFO -  at 102.1s,\testimator xgboost's best error=0.0537,\tbest estimator lgbm's best error=0.0259\n",
      "[flaml.automl.logger: 06-05 19:53:13] {2219} INFO - iteration 170, current learner lgbm\n",
      "[flaml.automl.logger: 06-05 19:53:15] {2392} INFO -  at 103.5s,\testimator lgbm's best error=0.0259,\tbest estimator lgbm's best error=0.0259\n",
      "[flaml.automl.logger: 06-05 19:53:15] {2219} INFO - iteration 171, current learner lgbm\n",
      "[flaml.automl.logger: 06-05 19:53:17] {2392} INFO -  at 105.9s,\testimator lgbm's best error=0.0259,\tbest estimator lgbm's best error=0.0259\n",
      "[flaml.automl.logger: 06-05 19:53:17] {2219} INFO - iteration 172, current learner lgbm\n",
      "[flaml.automl.logger: 06-05 19:53:19] {2392} INFO -  at 107.9s,\testimator lgbm's best error=0.0259,\tbest estimator lgbm's best error=0.0259\n",
      "[flaml.automl.logger: 06-05 19:53:19] {2219} INFO - iteration 173, current learner rf\n",
      "[flaml.automl.logger: 06-05 19:53:20] {2392} INFO -  at 108.3s,\testimator rf's best error=0.0821,\tbest estimator lgbm's best error=0.0259\n",
      "[flaml.automl.logger: 06-05 19:53:20] {2219} INFO - iteration 174, current learner rf\n",
      "[flaml.automl.logger: 06-05 19:53:20] {2392} INFO -  at 108.8s,\testimator rf's best error=0.0821,\tbest estimator lgbm's best error=0.0259\n",
      "[flaml.automl.logger: 06-05 19:53:20] {2219} INFO - iteration 175, current learner rf\n",
      "[flaml.automl.logger: 06-05 19:53:21] {2392} INFO -  at 109.3s,\testimator rf's best error=0.0675,\tbest estimator lgbm's best error=0.0259\n",
      "[flaml.automl.logger: 06-05 19:53:21] {2219} INFO - iteration 176, current learner rf\n",
      "[flaml.automl.logger: 06-05 19:53:21] {2392} INFO -  at 109.6s,\testimator rf's best error=0.0619,\tbest estimator lgbm's best error=0.0259\n",
      "[flaml.automl.logger: 06-05 19:53:21] {2219} INFO - iteration 177, current learner extra_tree\n",
      "[flaml.automl.logger: 06-05 19:53:21] {2392} INFO -  at 110.0s,\testimator extra_tree's best error=0.0530,\tbest estimator lgbm's best error=0.0259\n",
      "[flaml.automl.logger: 06-05 19:53:21] {2219} INFO - iteration 178, current learner rf\n",
      "[flaml.automl.logger: 06-05 19:53:22] {2392} INFO -  at 110.4s,\testimator rf's best error=0.0619,\tbest estimator lgbm's best error=0.0259\n",
      "[flaml.automl.logger: 06-05 19:53:22] {2219} INFO - iteration 179, current learner rf\n",
      "[flaml.automl.logger: 06-05 19:53:22] {2392} INFO -  at 110.9s,\testimator rf's best error=0.0467,\tbest estimator lgbm's best error=0.0259\n",
      "[flaml.automl.logger: 06-05 19:53:22] {2219} INFO - iteration 180, current learner rf\n",
      "[flaml.automl.logger: 06-05 19:53:22] {2392} INFO -  at 111.2s,\testimator rf's best error=0.0467,\tbest estimator lgbm's best error=0.0259\n",
      "[flaml.automl.logger: 06-05 19:53:22] {2219} INFO - iteration 181, current learner rf\n",
      "[flaml.automl.logger: 06-05 19:53:23] {2392} INFO -  at 111.6s,\testimator rf's best error=0.0461,\tbest estimator lgbm's best error=0.0259\n",
      "[flaml.automl.logger: 06-05 19:53:23] {2219} INFO - iteration 182, current learner rf\n",
      "[flaml.automl.logger: 06-05 19:53:23] {2392} INFO -  at 112.1s,\testimator rf's best error=0.0461,\tbest estimator lgbm's best error=0.0259\n",
      "[flaml.automl.logger: 06-05 19:53:23] {2219} INFO - iteration 183, current learner lgbm\n",
      "[flaml.automl.logger: 06-05 19:53:25] {2392} INFO -  at 113.9s,\testimator lgbm's best error=0.0259,\tbest estimator lgbm's best error=0.0259\n",
      "[flaml.automl.logger: 06-05 19:53:25] {2219} INFO - iteration 184, current learner lgbm\n",
      "[flaml.automl.logger: 06-05 19:53:27] {2392} INFO -  at 116.0s,\testimator lgbm's best error=0.0259,\tbest estimator lgbm's best error=0.0259\n",
      "[flaml.automl.logger: 06-05 19:53:27] {2219} INFO - iteration 185, current learner lgbm\n",
      "[flaml.automl.logger: 06-05 19:53:34] {2392} INFO -  at 122.4s,\testimator lgbm's best error=0.0259,\tbest estimator lgbm's best error=0.0259\n",
      "[flaml.automl.logger: 06-05 19:53:34] {2219} INFO - iteration 186, current learner rf\n",
      "[flaml.automl.logger: 06-05 19:53:34] {2392} INFO -  at 122.8s,\testimator rf's best error=0.0429,\tbest estimator lgbm's best error=0.0259\n",
      "[flaml.automl.logger: 06-05 19:53:34] {2219} INFO - iteration 187, current learner lgbm\n",
      "[flaml.automl.logger: 06-05 19:53:35] {2392} INFO -  at 123.6s,\testimator lgbm's best error=0.0259,\tbest estimator lgbm's best error=0.0259\n",
      "[flaml.automl.logger: 06-05 19:53:35] {2219} INFO - iteration 188, current learner rf\n",
      "[flaml.automl.logger: 06-05 19:53:35] {2392} INFO -  at 123.9s,\testimator rf's best error=0.0429,\tbest estimator lgbm's best error=0.0259\n",
      "[flaml.automl.logger: 06-05 19:53:35] {2219} INFO - iteration 189, current learner lgbm\n",
      "[flaml.automl.logger: 06-05 19:53:38] {2392} INFO -  at 127.2s,\testimator lgbm's best error=0.0259,\tbest estimator lgbm's best error=0.0259\n",
      "[flaml.automl.logger: 06-05 19:53:38] {2219} INFO - iteration 190, current learner rf\n",
      "[flaml.automl.logger: 06-05 19:53:39] {2392} INFO -  at 127.7s,\testimator rf's best error=0.0429,\tbest estimator lgbm's best error=0.0259\n",
      "[flaml.automl.logger: 06-05 19:53:39] {2219} INFO - iteration 191, current learner xgboost\n",
      "[flaml.automl.logger: 06-05 19:53:40] {2392} INFO -  at 128.3s,\testimator xgboost's best error=0.0537,\tbest estimator lgbm's best error=0.0259\n",
      "[flaml.automl.logger: 06-05 19:53:40] {2219} INFO - iteration 192, current learner lgbm\n",
      "[flaml.automl.logger: 06-05 19:53:40] {2392} INFO -  at 129.2s,\testimator lgbm's best error=0.0259,\tbest estimator lgbm's best error=0.0259\n",
      "[flaml.automl.logger: 06-05 19:53:40] {2219} INFO - iteration 193, current learner rf\n",
      "[flaml.automl.logger: 06-05 19:53:41] {2392} INFO -  at 130.0s,\testimator rf's best error=0.0429,\tbest estimator lgbm's best error=0.0259\n",
      "[flaml.automl.logger: 06-05 19:53:41] {2219} INFO - iteration 194, current learner rf\n",
      "[flaml.automl.logger: 06-05 19:53:42] {2392} INFO -  at 130.7s,\testimator rf's best error=0.0429,\tbest estimator lgbm's best error=0.0259\n",
      "[flaml.automl.logger: 06-05 19:53:42] {2219} INFO - iteration 195, current learner extra_tree\n",
      "[flaml.automl.logger: 06-05 19:53:42] {2392} INFO -  at 131.1s,\testimator extra_tree's best error=0.0530,\tbest estimator lgbm's best error=0.0259\n",
      "[flaml.automl.logger: 06-05 19:53:42] {2219} INFO - iteration 196, current learner lgbm\n",
      "[flaml.automl.logger: 06-05 19:53:43] {2392} INFO -  at 131.8s,\testimator lgbm's best error=0.0259,\tbest estimator lgbm's best error=0.0259\n",
      "[flaml.automl.logger: 06-05 19:53:43] {2219} INFO - iteration 197, current learner lgbm\n",
      "[flaml.automl.logger: 06-05 19:53:50] {2392} INFO -  at 138.6s,\testimator lgbm's best error=0.0259,\tbest estimator lgbm's best error=0.0259\n",
      "[flaml.automl.logger: 06-05 19:53:50] {2219} INFO - iteration 198, current learner xgboost\n",
      "[flaml.automl.logger: 06-05 19:53:50] {2392} INFO -  at 138.8s,\testimator xgboost's best error=0.0537,\tbest estimator lgbm's best error=0.0259\n",
      "[flaml.automl.logger: 06-05 19:53:50] {2219} INFO - iteration 199, current learner xgboost\n",
      "[flaml.automl.logger: 06-05 19:53:51] {2392} INFO -  at 140.2s,\testimator xgboost's best error=0.0499,\tbest estimator lgbm's best error=0.0259\n",
      "[flaml.automl.logger: 06-05 19:53:51] {2219} INFO - iteration 200, current learner extra_tree\n",
      "[flaml.automl.logger: 06-05 19:53:52] {2392} INFO -  at 140.6s,\testimator extra_tree's best error=0.0499,\tbest estimator lgbm's best error=0.0259\n",
      "[flaml.automl.logger: 06-05 19:53:52] {2219} INFO - iteration 201, current learner extra_tree\n",
      "[flaml.automl.logger: 06-05 19:53:52] {2392} INFO -  at 141.2s,\testimator extra_tree's best error=0.0423,\tbest estimator lgbm's best error=0.0259\n",
      "[flaml.automl.logger: 06-05 19:53:52] {2219} INFO - iteration 202, current learner lgbm\n"
     ]
    },
    {
     "name": "stdout",
     "output_type": "stream",
     "text": [
      "[flaml.automl.logger: 06-05 19:53:56] {2392} INFO -  at 145.1s,\testimator lgbm's best error=0.0259,\tbest estimator lgbm's best error=0.0259\n",
      "[flaml.automl.logger: 06-05 19:53:56] {2219} INFO - iteration 203, current learner extra_tree\n",
      "[flaml.automl.logger: 06-05 19:53:57] {2392} INFO -  at 145.5s,\testimator extra_tree's best error=0.0423,\tbest estimator lgbm's best error=0.0259\n",
      "[flaml.automl.logger: 06-05 19:53:57] {2219} INFO - iteration 204, current learner extra_tree\n",
      "[flaml.automl.logger: 06-05 19:53:58] {2392} INFO -  at 146.3s,\testimator extra_tree's best error=0.0423,\tbest estimator lgbm's best error=0.0259\n",
      "[flaml.automl.logger: 06-05 19:53:58] {2219} INFO - iteration 205, current learner extra_tree\n",
      "[flaml.automl.logger: 06-05 19:53:58] {2392} INFO -  at 147.0s,\testimator extra_tree's best error=0.0391,\tbest estimator lgbm's best error=0.0259\n",
      "[flaml.automl.logger: 06-05 19:53:58] {2219} INFO - iteration 206, current learner extra_tree\n",
      "[flaml.automl.logger: 06-05 19:53:59] {2392} INFO -  at 147.8s,\testimator extra_tree's best error=0.0391,\tbest estimator lgbm's best error=0.0259\n",
      "[flaml.automl.logger: 06-05 19:53:59] {2219} INFO - iteration 207, current learner xgboost\n",
      "[flaml.automl.logger: 06-05 19:54:00] {2392} INFO -  at 148.9s,\testimator xgboost's best error=0.0499,\tbest estimator lgbm's best error=0.0259\n",
      "[flaml.automl.logger: 06-05 19:54:00] {2219} INFO - iteration 208, current learner extra_tree\n",
      "[flaml.automl.logger: 06-05 19:54:01] {2392} INFO -  at 149.4s,\testimator extra_tree's best error=0.0391,\tbest estimator lgbm's best error=0.0259\n",
      "[flaml.automl.logger: 06-05 19:54:01] {2219} INFO - iteration 209, current learner extra_tree\n",
      "[flaml.automl.logger: 06-05 19:54:01] {2392} INFO -  at 150.0s,\testimator extra_tree's best error=0.0391,\tbest estimator lgbm's best error=0.0259\n",
      "[flaml.automl.logger: 06-05 19:54:01] {2219} INFO - iteration 210, current learner rf\n",
      "[flaml.automl.logger: 06-05 19:54:02] {2392} INFO -  at 150.3s,\testimator rf's best error=0.0429,\tbest estimator lgbm's best error=0.0259\n",
      "[flaml.automl.logger: 06-05 19:54:02] {2219} INFO - iteration 211, current learner rf\n",
      "[flaml.automl.logger: 06-05 19:54:02] {2392} INFO -  at 151.0s,\testimator rf's best error=0.0429,\tbest estimator lgbm's best error=0.0259\n",
      "[flaml.automl.logger: 06-05 19:54:02] {2219} INFO - iteration 212, current learner xgboost\n",
      "[flaml.automl.logger: 06-05 19:54:03] {2392} INFO -  at 152.1s,\testimator xgboost's best error=0.0499,\tbest estimator lgbm's best error=0.0259\n",
      "[flaml.automl.logger: 06-05 19:54:03] {2219} INFO - iteration 213, current learner xgboost\n",
      "[flaml.automl.logger: 06-05 19:54:05] {2392} INFO -  at 153.8s,\testimator xgboost's best error=0.0499,\tbest estimator lgbm's best error=0.0259\n",
      "[flaml.automl.logger: 06-05 19:54:05] {2219} INFO - iteration 214, current learner extra_tree\n",
      "[flaml.automl.logger: 06-05 19:54:06] {2392} INFO -  at 154.4s,\testimator extra_tree's best error=0.0391,\tbest estimator lgbm's best error=0.0259\n",
      "[flaml.automl.logger: 06-05 19:54:06] {2219} INFO - iteration 215, current learner extra_tree\n",
      "[flaml.automl.logger: 06-05 19:54:06] {2392} INFO -  at 155.0s,\testimator extra_tree's best error=0.0391,\tbest estimator lgbm's best error=0.0259\n",
      "[flaml.automl.logger: 06-05 19:54:06] {2219} INFO - iteration 216, current learner rf\n",
      "[flaml.automl.logger: 06-05 19:54:07] {2392} INFO -  at 155.4s,\testimator rf's best error=0.0429,\tbest estimator lgbm's best error=0.0259\n",
      "[flaml.automl.logger: 06-05 19:54:07] {2219} INFO - iteration 217, current learner extra_tree\n",
      "[flaml.automl.logger: 06-05 19:54:07] {2392} INFO -  at 156.1s,\testimator extra_tree's best error=0.0391,\tbest estimator lgbm's best error=0.0259\n",
      "[flaml.automl.logger: 06-05 19:54:07] {2219} INFO - iteration 218, current learner lgbm\n",
      "[flaml.automl.logger: 06-05 19:54:08] {2392} INFO -  at 157.1s,\testimator lgbm's best error=0.0259,\tbest estimator lgbm's best error=0.0259\n",
      "[flaml.automl.logger: 06-05 19:54:08] {2219} INFO - iteration 219, current learner lgbm\n",
      "[flaml.automl.logger: 06-05 19:54:09] {2392} INFO -  at 158.0s,\testimator lgbm's best error=0.0259,\tbest estimator lgbm's best error=0.0259\n",
      "[flaml.automl.logger: 06-05 19:54:09] {2219} INFO - iteration 220, current learner lgbm\n",
      "[flaml.automl.logger: 06-05 19:54:17] {2392} INFO -  at 165.6s,\testimator lgbm's best error=0.0259,\tbest estimator lgbm's best error=0.0259\n",
      "[flaml.automl.logger: 06-05 19:54:17] {2219} INFO - iteration 221, current learner rf\n",
      "[flaml.automl.logger: 06-05 19:54:18] {2392} INFO -  at 166.5s,\testimator rf's best error=0.0347,\tbest estimator lgbm's best error=0.0259\n",
      "[flaml.automl.logger: 06-05 19:54:18] {2219} INFO - iteration 222, current learner lgbm\n",
      "[flaml.automl.logger: 06-05 19:54:22] {2392} INFO -  at 170.3s,\testimator lgbm's best error=0.0259,\tbest estimator lgbm's best error=0.0259\n",
      "[flaml.automl.logger: 06-05 19:54:22] {2219} INFO - iteration 223, current learner extra_tree\n",
      "[flaml.automl.logger: 06-05 19:54:22] {2392} INFO -  at 170.9s,\testimator extra_tree's best error=0.0391,\tbest estimator lgbm's best error=0.0259\n",
      "[flaml.automl.logger: 06-05 19:54:22] {2219} INFO - iteration 224, current learner xgboost\n",
      "[flaml.automl.logger: 06-05 19:54:23] {2392} INFO -  at 171.9s,\testimator xgboost's best error=0.0499,\tbest estimator lgbm's best error=0.0259\n",
      "[flaml.automl.logger: 06-05 19:54:23] {2219} INFO - iteration 225, current learner lgbm\n",
      "[flaml.automl.logger: 06-05 19:54:25] {2392} INFO -  at 173.3s,\testimator lgbm's best error=0.0259,\tbest estimator lgbm's best error=0.0259\n",
      "[flaml.automl.logger: 06-05 19:54:25] {2219} INFO - iteration 226, current learner rf\n",
      "[flaml.automl.logger: 06-05 19:54:25] {2392} INFO -  at 173.8s,\testimator rf's best error=0.0347,\tbest estimator lgbm's best error=0.0259\n",
      "[flaml.automl.logger: 06-05 19:54:25] {2219} INFO - iteration 227, current learner rf\n",
      "[flaml.automl.logger: 06-05 19:54:26] {2392} INFO -  at 174.7s,\testimator rf's best error=0.0347,\tbest estimator lgbm's best error=0.0259\n",
      "[flaml.automl.logger: 06-05 19:54:26] {2219} INFO - iteration 228, current learner lgbm\n",
      "[flaml.automl.logger: 06-05 19:54:30] {2392} INFO -  at 178.7s,\testimator lgbm's best error=0.0259,\tbest estimator lgbm's best error=0.0259\n",
      "[flaml.automl.logger: 06-05 19:54:30] {2219} INFO - iteration 229, current learner xgboost\n",
      "[flaml.automl.logger: 06-05 19:54:35] {2392} INFO -  at 183.3s,\testimator xgboost's best error=0.0410,\tbest estimator lgbm's best error=0.0259\n",
      "[flaml.automl.logger: 06-05 19:54:35] {2219} INFO - iteration 230, current learner rf\n",
      "[flaml.automl.logger: 06-05 19:54:35] {2392} INFO -  at 183.8s,\testimator rf's best error=0.0347,\tbest estimator lgbm's best error=0.0259\n",
      "[flaml.automl.logger: 06-05 19:54:35] {2219} INFO - iteration 231, current learner extra_tree\n",
      "[flaml.automl.logger: 06-05 19:54:36] {2392} INFO -  at 184.5s,\testimator extra_tree's best error=0.0391,\tbest estimator lgbm's best error=0.0259\n",
      "[flaml.automl.logger: 06-05 19:54:36] {2219} INFO - iteration 232, current learner rf\n",
      "[flaml.automl.logger: 06-05 19:54:36] {2392} INFO -  at 185.0s,\testimator rf's best error=0.0347,\tbest estimator lgbm's best error=0.0259\n",
      "[flaml.automl.logger: 06-05 19:54:36] {2219} INFO - iteration 233, current learner extra_tree\n",
      "[flaml.automl.logger: 06-05 19:54:37] {2392} INFO -  at 186.0s,\testimator extra_tree's best error=0.0391,\tbest estimator lgbm's best error=0.0259\n",
      "[flaml.automl.logger: 06-05 19:54:37] {2219} INFO - iteration 234, current learner xgboost\n",
      "[flaml.automl.logger: 06-05 19:54:39] {2392} INFO -  at 187.3s,\testimator xgboost's best error=0.0410,\tbest estimator lgbm's best error=0.0259\n",
      "[flaml.automl.logger: 06-05 19:54:39] {2219} INFO - iteration 235, current learner extra_tree\n",
      "[flaml.automl.logger: 06-05 19:54:39] {2392} INFO -  at 187.8s,\testimator extra_tree's best error=0.0391,\tbest estimator lgbm's best error=0.0259\n",
      "[flaml.automl.logger: 06-05 19:54:39] {2219} INFO - iteration 236, current learner rf\n",
      "[flaml.automl.logger: 06-05 19:54:40] {2392} INFO -  at 188.6s,\testimator rf's best error=0.0347,\tbest estimator lgbm's best error=0.0259\n",
      "[flaml.automl.logger: 06-05 19:54:40] {2219} INFO - iteration 237, current learner rf\n",
      "[flaml.automl.logger: 06-05 19:54:41] {2392} INFO -  at 189.3s,\testimator rf's best error=0.0347,\tbest estimator lgbm's best error=0.0259\n"
     ]
    },
    {
     "name": "stdout",
     "output_type": "stream",
     "text": [
      "[flaml.automl.logger: 06-05 19:54:41] {2219} INFO - iteration 238, current learner xgboost\n",
      "[flaml.automl.logger: 06-05 19:54:44] {2392} INFO -  at 192.4s,\testimator xgboost's best error=0.0410,\tbest estimator lgbm's best error=0.0259\n",
      "[flaml.automl.logger: 06-05 19:54:44] {2219} INFO - iteration 239, current learner rf\n",
      "[flaml.automl.logger: 06-05 19:54:45] {2392} INFO -  at 193.3s,\testimator rf's best error=0.0347,\tbest estimator lgbm's best error=0.0259\n",
      "[flaml.automl.logger: 06-05 19:54:45] {2219} INFO - iteration 240, current learner rf\n",
      "[flaml.automl.logger: 06-05 19:54:46] {2392} INFO -  at 194.3s,\testimator rf's best error=0.0347,\tbest estimator lgbm's best error=0.0259\n",
      "[flaml.automl.logger: 06-05 19:54:46] {2219} INFO - iteration 241, current learner rf\n",
      "[flaml.automl.logger: 06-05 19:54:46] {2392} INFO -  at 194.9s,\testimator rf's best error=0.0347,\tbest estimator lgbm's best error=0.0259\n",
      "[flaml.automl.logger: 06-05 19:54:46] {2219} INFO - iteration 242, current learner lgbm\n",
      "[flaml.automl.logger: 06-05 19:54:47] {2392} INFO -  at 195.6s,\testimator lgbm's best error=0.0259,\tbest estimator lgbm's best error=0.0259\n",
      "[flaml.automl.logger: 06-05 19:54:47] {2219} INFO - iteration 243, current learner rf\n",
      "[flaml.automl.logger: 06-05 19:54:48] {2392} INFO -  at 196.7s,\testimator rf's best error=0.0347,\tbest estimator lgbm's best error=0.0259\n",
      "[flaml.automl.logger: 06-05 19:54:48] {2219} INFO - iteration 244, current learner rf\n",
      "[flaml.automl.logger: 06-05 19:54:49] {2392} INFO -  at 197.3s,\testimator rf's best error=0.0347,\tbest estimator lgbm's best error=0.0259\n",
      "[flaml.automl.logger: 06-05 19:54:49] {2219} INFO - iteration 245, current learner xgboost\n",
      "[flaml.automl.logger: 06-05 19:54:54] {2392} INFO -  at 202.6s,\testimator xgboost's best error=0.0410,\tbest estimator lgbm's best error=0.0259\n",
      "[flaml.automl.logger: 06-05 19:54:54] {2219} INFO - iteration 246, current learner rf\n",
      "[flaml.automl.logger: 06-05 19:54:54] {2392} INFO -  at 203.1s,\testimator rf's best error=0.0347,\tbest estimator lgbm's best error=0.0259\n",
      "[flaml.automl.logger: 06-05 19:54:54] {2219} INFO - iteration 247, current learner extra_tree\n",
      "[flaml.automl.logger: 06-05 19:54:55] {2392} INFO -  at 203.9s,\testimator extra_tree's best error=0.0391,\tbest estimator lgbm's best error=0.0259\n",
      "[flaml.automl.logger: 06-05 19:54:55] {2219} INFO - iteration 248, current learner rf\n",
      "[flaml.automl.logger: 06-05 19:54:56] {2392} INFO -  at 205.1s,\testimator rf's best error=0.0347,\tbest estimator lgbm's best error=0.0259\n",
      "[flaml.automl.logger: 06-05 19:54:56] {2219} INFO - iteration 249, current learner lgbm\n",
      "[flaml.automl.logger: 06-05 19:54:58] {2392} INFO -  at 206.6s,\testimator lgbm's best error=0.0259,\tbest estimator lgbm's best error=0.0259\n",
      "[flaml.automl.logger: 06-05 19:54:58] {2219} INFO - iteration 250, current learner xgboost\n",
      "[flaml.automl.logger: 06-05 19:55:05] {2392} INFO -  at 213.8s,\testimator xgboost's best error=0.0410,\tbest estimator lgbm's best error=0.0259\n",
      "[flaml.automl.logger: 06-05 19:55:05] {2219} INFO - iteration 251, current learner rf\n",
      "[flaml.automl.logger: 06-05 19:55:06] {2392} INFO -  at 214.3s,\testimator rf's best error=0.0347,\tbest estimator lgbm's best error=0.0259\n",
      "[flaml.automl.logger: 06-05 19:55:06] {2219} INFO - iteration 252, current learner lgbm\n",
      "[flaml.automl.logger: 06-05 19:55:08] {2392} INFO -  at 217.2s,\testimator lgbm's best error=0.0259,\tbest estimator lgbm's best error=0.0259\n",
      "[flaml.automl.logger: 06-05 19:55:08] {2219} INFO - iteration 253, current learner rf\n",
      "[flaml.automl.logger: 06-05 19:55:09] {2392} INFO -  at 217.9s,\testimator rf's best error=0.0347,\tbest estimator lgbm's best error=0.0259\n",
      "[flaml.automl.logger: 06-05 19:55:09] {2219} INFO - iteration 254, current learner xgboost\n",
      "[flaml.automl.logger: 06-05 19:55:11] {2392} INFO -  at 219.9s,\testimator xgboost's best error=0.0385,\tbest estimator lgbm's best error=0.0259\n",
      "[flaml.automl.logger: 06-05 19:55:11] {2219} INFO - iteration 255, current learner extra_tree\n",
      "[flaml.automl.logger: 06-05 19:55:12] {2392} INFO -  at 220.4s,\testimator extra_tree's best error=0.0391,\tbest estimator lgbm's best error=0.0259\n",
      "[flaml.automl.logger: 06-05 19:55:12] {2219} INFO - iteration 256, current learner lgbm\n",
      "[flaml.automl.logger: 06-05 19:55:13] {2392} INFO -  at 221.5s,\testimator lgbm's best error=0.0259,\tbest estimator lgbm's best error=0.0259\n",
      "[flaml.automl.logger: 06-05 19:55:13] {2219} INFO - iteration 257, current learner extra_tree\n",
      "[flaml.automl.logger: 06-05 19:55:13] {2392} INFO -  at 222.0s,\testimator extra_tree's best error=0.0391,\tbest estimator lgbm's best error=0.0259\n",
      "[flaml.automl.logger: 06-05 19:55:13] {2219} INFO - iteration 258, current learner rf\n",
      "[flaml.automl.logger: 06-05 19:55:14] {2392} INFO -  at 222.4s,\testimator rf's best error=0.0347,\tbest estimator lgbm's best error=0.0259\n",
      "[flaml.automl.logger: 06-05 19:55:14] {2219} INFO - iteration 259, current learner extra_tree\n",
      "[flaml.automl.logger: 06-05 19:55:15] {2392} INFO -  at 223.3s,\testimator extra_tree's best error=0.0391,\tbest estimator lgbm's best error=0.0259\n",
      "[flaml.automl.logger: 06-05 19:55:15] {2219} INFO - iteration 260, current learner rf\n",
      "[flaml.automl.logger: 06-05 19:55:16] {2392} INFO -  at 224.3s,\testimator rf's best error=0.0347,\tbest estimator lgbm's best error=0.0259\n",
      "[flaml.automl.logger: 06-05 19:55:16] {2219} INFO - iteration 261, current learner extra_tree\n",
      "[flaml.automl.logger: 06-05 19:55:16] {2392} INFO -  at 224.7s,\testimator extra_tree's best error=0.0391,\tbest estimator lgbm's best error=0.0259\n",
      "[flaml.automl.logger: 06-05 19:55:16] {2219} INFO - iteration 262, current learner rf\n",
      "[flaml.automl.logger: 06-05 19:55:17] {2392} INFO -  at 225.3s,\testimator rf's best error=0.0347,\tbest estimator lgbm's best error=0.0259\n",
      "[flaml.automl.logger: 06-05 19:55:17] {2219} INFO - iteration 263, current learner rf\n",
      "[flaml.automl.logger: 06-05 19:55:17] {2392} INFO -  at 226.1s,\testimator rf's best error=0.0347,\tbest estimator lgbm's best error=0.0259\n",
      "[flaml.automl.logger: 06-05 19:55:17] {2219} INFO - iteration 264, current learner rf\n",
      "[flaml.automl.logger: 06-05 19:55:18] {2392} INFO -  at 226.7s,\testimator rf's best error=0.0347,\tbest estimator lgbm's best error=0.0259\n",
      "[flaml.automl.logger: 06-05 19:55:18] {2219} INFO - iteration 265, current learner rf\n",
      "[flaml.automl.logger: 06-05 19:55:19] {2392} INFO -  at 227.7s,\testimator rf's best error=0.0347,\tbest estimator lgbm's best error=0.0259\n",
      "[flaml.automl.logger: 06-05 19:55:19] {2219} INFO - iteration 266, current learner xgboost\n",
      "[flaml.automl.logger: 06-05 19:55:20] {2392} INFO -  at 228.6s,\testimator xgboost's best error=0.0385,\tbest estimator lgbm's best error=0.0259\n",
      "[flaml.automl.logger: 06-05 19:55:20] {2219} INFO - iteration 267, current learner extra_tree\n",
      "[flaml.automl.logger: 06-05 19:55:21] {2392} INFO -  at 229.4s,\testimator extra_tree's best error=0.0391,\tbest estimator lgbm's best error=0.0259\n",
      "[flaml.automl.logger: 06-05 19:55:21] {2219} INFO - iteration 268, current learner xgboost\n",
      "[flaml.automl.logger: 06-05 19:55:25] {2392} INFO -  at 233.7s,\testimator xgboost's best error=0.0385,\tbest estimator lgbm's best error=0.0259\n",
      "[flaml.automl.logger: 06-05 19:55:25] {2219} INFO - iteration 269, current learner rf\n",
      "[flaml.automl.logger: 06-05 19:55:26] {2392} INFO -  at 234.4s,\testimator rf's best error=0.0347,\tbest estimator lgbm's best error=0.0259\n",
      "[flaml.automl.logger: 06-05 19:55:26] {2219} INFO - iteration 270, current learner extra_tree\n",
      "[flaml.automl.logger: 06-05 19:55:26] {2392} INFO -  at 235.0s,\testimator extra_tree's best error=0.0391,\tbest estimator lgbm's best error=0.0259\n",
      "[flaml.automl.logger: 06-05 19:55:26] {2219} INFO - iteration 271, current learner rf\n",
      "[flaml.automl.logger: 06-05 19:55:27] {2392} INFO -  at 235.9s,\testimator rf's best error=0.0335,\tbest estimator lgbm's best error=0.0259\n",
      "[flaml.automl.logger: 06-05 19:55:27] {2219} INFO - iteration 272, current learner xgboost\n",
      "[flaml.automl.logger: 06-05 19:55:28] {2392} INFO -  at 237.0s,\testimator xgboost's best error=0.0385,\tbest estimator lgbm's best error=0.0259\n",
      "[flaml.automl.logger: 06-05 19:55:28] {2219} INFO - iteration 273, current learner rf\n",
      "[flaml.automl.logger: 06-05 19:55:29] {2392} INFO -  at 237.5s,\testimator rf's best error=0.0335,\tbest estimator lgbm's best error=0.0259\n"
     ]
    },
    {
     "name": "stdout",
     "output_type": "stream",
     "text": [
      "[flaml.automl.logger: 06-05 19:55:29] {2219} INFO - iteration 274, current learner lgbm\n",
      "[flaml.automl.logger: 06-05 19:55:30] {2392} INFO -  at 239.0s,\testimator lgbm's best error=0.0259,\tbest estimator lgbm's best error=0.0259\n",
      "[flaml.automl.logger: 06-05 19:55:30] {2219} INFO - iteration 275, current learner lgbm\n",
      "[flaml.automl.logger: 06-05 19:55:33] {2392} INFO -  at 242.0s,\testimator lgbm's best error=0.0259,\tbest estimator lgbm's best error=0.0259\n",
      "[flaml.automl.logger: 06-05 19:55:33] {2219} INFO - iteration 276, current learner lgbm\n",
      "[flaml.automl.logger: 06-05 19:55:35] {2392} INFO -  at 243.3s,\testimator lgbm's best error=0.0259,\tbest estimator lgbm's best error=0.0259\n",
      "[flaml.automl.logger: 06-05 19:55:35] {2219} INFO - iteration 277, current learner lgbm\n",
      "[flaml.automl.logger: 06-05 19:55:36] {2392} INFO -  at 245.2s,\testimator lgbm's best error=0.0259,\tbest estimator lgbm's best error=0.0259\n",
      "[flaml.automl.logger: 06-05 19:55:36] {2219} INFO - iteration 278, current learner xgboost\n",
      "[flaml.automl.logger: 06-05 19:55:38] {2392} INFO -  at 246.6s,\testimator xgboost's best error=0.0322,\tbest estimator lgbm's best error=0.0259\n",
      "[flaml.automl.logger: 06-05 19:55:38] {2219} INFO - iteration 279, current learner xgboost\n",
      "[flaml.automl.logger: 06-05 19:55:40] {2392} INFO -  at 248.3s,\testimator xgboost's best error=0.0322,\tbest estimator lgbm's best error=0.0259\n",
      "[flaml.automl.logger: 06-05 19:55:40] {2219} INFO - iteration 280, current learner extra_tree\n",
      "[flaml.automl.logger: 06-05 19:55:40] {2392} INFO -  at 249.0s,\testimator extra_tree's best error=0.0391,\tbest estimator lgbm's best error=0.0259\n",
      "[flaml.automl.logger: 06-05 19:55:40] {2219} INFO - iteration 281, current learner xgboost\n",
      "[flaml.automl.logger: 06-05 19:55:42] {2392} INFO -  at 250.3s,\testimator xgboost's best error=0.0316,\tbest estimator lgbm's best error=0.0259\n",
      "[flaml.automl.logger: 06-05 19:55:42] {2219} INFO - iteration 282, current learner lgbm\n",
      "[flaml.automl.logger: 06-05 19:55:44] {2392} INFO -  at 253.1s,\testimator lgbm's best error=0.0259,\tbest estimator lgbm's best error=0.0259\n",
      "[flaml.automl.logger: 06-05 19:55:44] {2219} INFO - iteration 283, current learner xgboost\n",
      "[flaml.automl.logger: 06-05 19:55:45] {2392} INFO -  at 253.9s,\testimator xgboost's best error=0.0316,\tbest estimator lgbm's best error=0.0259\n",
      "[flaml.automl.logger: 06-05 19:55:45] {2219} INFO - iteration 284, current learner rf\n",
      "[flaml.automl.logger: 06-05 19:55:47] {2392} INFO -  at 255.4s,\testimator rf's best error=0.0335,\tbest estimator lgbm's best error=0.0259\n",
      "[flaml.automl.logger: 06-05 19:55:47] {2219} INFO - iteration 285, current learner extra_tree\n",
      "[flaml.automl.logger: 06-05 19:55:47] {2392} INFO -  at 255.9s,\testimator extra_tree's best error=0.0391,\tbest estimator lgbm's best error=0.0259\n",
      "[flaml.automl.logger: 06-05 19:55:47] {2219} INFO - iteration 286, current learner extra_tree\n",
      "[flaml.automl.logger: 06-05 19:55:48] {2392} INFO -  at 256.6s,\testimator extra_tree's best error=0.0391,\tbest estimator lgbm's best error=0.0259\n",
      "[flaml.automl.logger: 06-05 19:55:48] {2219} INFO - iteration 287, current learner extra_tree\n",
      "[flaml.automl.logger: 06-05 19:55:48] {2392} INFO -  at 257.2s,\testimator extra_tree's best error=0.0391,\tbest estimator lgbm's best error=0.0259\n",
      "[flaml.automl.logger: 06-05 19:55:48] {2219} INFO - iteration 288, current learner xgboost\n",
      "[flaml.automl.logger: 06-05 19:55:50] {2392} INFO -  at 258.7s,\testimator xgboost's best error=0.0271,\tbest estimator lgbm's best error=0.0259\n",
      "[flaml.automl.logger: 06-05 19:55:50] {2219} INFO - iteration 289, current learner xgboost\n",
      "[flaml.automl.logger: 06-05 19:55:52] {2392} INFO -  at 260.3s,\testimator xgboost's best error=0.0271,\tbest estimator lgbm's best error=0.0259\n",
      "[flaml.automl.logger: 06-05 19:55:52] {2219} INFO - iteration 290, current learner xgboost\n",
      "[flaml.automl.logger: 06-05 19:55:53] {2392} INFO -  at 261.7s,\testimator xgboost's best error=0.0271,\tbest estimator lgbm's best error=0.0259\n",
      "[flaml.automl.logger: 06-05 19:55:53] {2219} INFO - iteration 291, current learner xgboost\n",
      "[flaml.automl.logger: 06-05 19:55:55] {2392} INFO -  at 264.0s,\testimator xgboost's best error=0.0271,\tbest estimator lgbm's best error=0.0259\n",
      "[flaml.automl.logger: 06-05 19:55:55] {2219} INFO - iteration 292, current learner xgboost\n",
      "[flaml.automl.logger: 06-05 19:55:56] {2392} INFO -  at 265.0s,\testimator xgboost's best error=0.0271,\tbest estimator lgbm's best error=0.0259\n",
      "[flaml.automl.logger: 06-05 19:55:56] {2219} INFO - iteration 293, current learner xgboost\n",
      "[flaml.automl.logger: 06-05 19:55:58] {2392} INFO -  at 266.6s,\testimator xgboost's best error=0.0271,\tbest estimator lgbm's best error=0.0259\n",
      "[flaml.automl.logger: 06-05 19:55:58] {2219} INFO - iteration 294, current learner xgboost\n",
      "[flaml.automl.logger: 06-05 19:55:59] {2392} INFO -  at 268.1s,\testimator xgboost's best error=0.0271,\tbest estimator lgbm's best error=0.0259\n",
      "[flaml.automl.logger: 06-05 19:55:59] {2219} INFO - iteration 295, current learner xgboost\n",
      "[flaml.automl.logger: 06-05 19:56:01] {2392} INFO -  at 269.5s,\testimator xgboost's best error=0.0271,\tbest estimator lgbm's best error=0.0259\n",
      "[flaml.automl.logger: 06-05 19:56:01] {2219} INFO - iteration 296, current learner xgboost\n",
      "[flaml.automl.logger: 06-05 19:56:02] {2392} INFO -  at 271.1s,\testimator xgboost's best error=0.0271,\tbest estimator lgbm's best error=0.0259\n",
      "[flaml.automl.logger: 06-05 19:56:02] {2219} INFO - iteration 297, current learner xgboost\n",
      "[flaml.automl.logger: 06-05 19:56:06] {2392} INFO -  at 274.6s,\testimator xgboost's best error=0.0271,\tbest estimator lgbm's best error=0.0259\n",
      "[flaml.automl.logger: 06-05 19:56:06] {2219} INFO - iteration 298, current learner xgboost\n",
      "[flaml.automl.logger: 06-05 19:56:06] {2392} INFO -  at 275.2s,\testimator xgboost's best error=0.0271,\tbest estimator lgbm's best error=0.0259\n",
      "[flaml.automl.logger: 06-05 19:56:06] {2219} INFO - iteration 299, current learner xgboost\n",
      "[flaml.automl.logger: 06-05 19:56:07] {2392} INFO -  at 276.2s,\testimator xgboost's best error=0.0271,\tbest estimator lgbm's best error=0.0259\n",
      "[flaml.automl.logger: 06-05 19:56:07] {2219} INFO - iteration 300, current learner xgboost\n",
      "[flaml.automl.logger: 06-05 19:56:10] {2392} INFO -  at 278.5s,\testimator xgboost's best error=0.0271,\tbest estimator lgbm's best error=0.0259\n",
      "[flaml.automl.logger: 06-05 19:56:10] {2219} INFO - iteration 301, current learner lgbm\n",
      "[flaml.automl.logger: 06-05 19:56:12] {2392} INFO -  at 281.1s,\testimator lgbm's best error=0.0259,\tbest estimator lgbm's best error=0.0259\n",
      "[flaml.automl.logger: 06-05 19:56:12] {2219} INFO - iteration 302, current learner xgboost\n",
      "[flaml.automl.logger: 06-05 19:56:14] {2392} INFO -  at 283.2s,\testimator xgboost's best error=0.0271,\tbest estimator lgbm's best error=0.0259\n",
      "[flaml.automl.logger: 06-05 19:56:14] {2219} INFO - iteration 303, current learner lgbm\n",
      "[flaml.automl.logger: 06-05 19:56:17] {2392} INFO -  at 285.7s,\testimator lgbm's best error=0.0259,\tbest estimator lgbm's best error=0.0259\n",
      "[flaml.automl.logger: 06-05 19:56:17] {2219} INFO - iteration 304, current learner extra_tree\n",
      "[flaml.automl.logger: 06-05 19:56:18] {2392} INFO -  at 286.3s,\testimator extra_tree's best error=0.0391,\tbest estimator lgbm's best error=0.0259\n",
      "[flaml.automl.logger: 06-05 19:56:18] {2219} INFO - iteration 305, current learner lgbm\n",
      "[flaml.automl.logger: 06-05 19:56:19] {2392} INFO -  at 287.3s,\testimator lgbm's best error=0.0259,\tbest estimator lgbm's best error=0.0259\n",
      "[flaml.automl.logger: 06-05 19:56:19] {2219} INFO - iteration 306, current learner extra_tree\n",
      "[flaml.automl.logger: 06-05 19:56:19] {2392} INFO -  at 287.9s,\testimator extra_tree's best error=0.0391,\tbest estimator lgbm's best error=0.0259\n",
      "[flaml.automl.logger: 06-05 19:56:19] {2219} INFO - iteration 307, current learner extra_tree\n",
      "[flaml.automl.logger: 06-05 19:56:20] {2392} INFO -  at 288.6s,\testimator extra_tree's best error=0.0391,\tbest estimator lgbm's best error=0.0259\n",
      "[flaml.automl.logger: 06-05 19:56:20] {2219} INFO - iteration 308, current learner rf\n",
      "[flaml.automl.logger: 06-05 19:56:21] {2392} INFO -  at 290.1s,\testimator rf's best error=0.0303,\tbest estimator lgbm's best error=0.0259\n",
      "[flaml.automl.logger: 06-05 19:56:21] {2219} INFO - iteration 309, current learner rf\n"
     ]
    },
    {
     "name": "stdout",
     "output_type": "stream",
     "text": [
      "[flaml.automl.logger: 06-05 19:56:22] {2392} INFO -  at 291.0s,\testimator rf's best error=0.0303,\tbest estimator lgbm's best error=0.0259\n",
      "[flaml.automl.logger: 06-05 19:56:22] {2219} INFO - iteration 310, current learner rf\n",
      "[flaml.automl.logger: 06-05 19:56:23] {2392} INFO -  at 292.1s,\testimator rf's best error=0.0303,\tbest estimator lgbm's best error=0.0259\n",
      "[flaml.automl.logger: 06-05 19:56:23] {2219} INFO - iteration 311, current learner rf\n",
      "[flaml.automl.logger: 06-05 19:56:26] {2392} INFO -  at 294.9s,\testimator rf's best error=0.0303,\tbest estimator lgbm's best error=0.0259\n",
      "[flaml.automl.logger: 06-05 19:56:26] {2219} INFO - iteration 312, current learner rf\n",
      "[flaml.automl.logger: 06-05 19:56:29] {2392} INFO -  at 297.4s,\testimator rf's best error=0.0303,\tbest estimator lgbm's best error=0.0259\n",
      "[flaml.automl.logger: 06-05 19:56:29] {2219} INFO - iteration 313, current learner rf\n",
      "[flaml.automl.logger: 06-05 19:56:30] {2392} INFO -  at 298.6s,\testimator rf's best error=0.0303,\tbest estimator lgbm's best error=0.0259\n",
      "[flaml.automl.logger: 06-05 19:56:30] {2219} INFO - iteration 314, current learner rf\n",
      "[flaml.automl.logger: 06-05 19:56:32] {2392} INFO -  at 300.8s,\testimator rf's best error=0.0303,\tbest estimator lgbm's best error=0.0259\n",
      "[flaml.automl.logger: 06-05 19:56:32] {2219} INFO - iteration 315, current learner rf\n",
      "[flaml.automl.logger: 06-05 19:56:33] {2392} INFO -  at 302.1s,\testimator rf's best error=0.0303,\tbest estimator lgbm's best error=0.0259\n",
      "[flaml.automl.logger: 06-05 19:56:33] {2219} INFO - iteration 316, current learner extra_tree\n",
      "[flaml.automl.logger: 06-05 19:56:34] {2392} INFO -  at 302.6s,\testimator extra_tree's best error=0.0391,\tbest estimator lgbm's best error=0.0259\n",
      "[flaml.automl.logger: 06-05 19:56:34] {2219} INFO - iteration 317, current learner extra_tree\n",
      "[flaml.automl.logger: 06-05 19:56:35] {2392} INFO -  at 303.5s,\testimator extra_tree's best error=0.0391,\tbest estimator lgbm's best error=0.0259\n",
      "[flaml.automl.logger: 06-05 19:56:35] {2219} INFO - iteration 318, current learner lgbm\n",
      "[flaml.automl.logger: 06-05 19:56:40] {2392} INFO -  at 308.6s,\testimator lgbm's best error=0.0259,\tbest estimator lgbm's best error=0.0259\n",
      "[flaml.automl.logger: 06-05 19:56:40] {2219} INFO - iteration 319, current learner lgbm\n",
      "[flaml.automl.logger: 06-05 19:56:45] {2392} INFO -  at 313.5s,\testimator lgbm's best error=0.0259,\tbest estimator lgbm's best error=0.0259\n",
      "[flaml.automl.logger: 06-05 19:56:45] {2219} INFO - iteration 320, current learner lgbm\n",
      "[flaml.automl.logger: 06-05 19:56:45] {2392} INFO -  at 314.1s,\testimator lgbm's best error=0.0259,\tbest estimator lgbm's best error=0.0259\n",
      "[flaml.automl.logger: 06-05 19:56:45] {2219} INFO - iteration 321, current learner rf\n",
      "[flaml.automl.logger: 06-05 19:56:48] {2392} INFO -  at 316.6s,\testimator rf's best error=0.0303,\tbest estimator lgbm's best error=0.0259\n",
      "[flaml.automl.logger: 06-05 19:56:48] {2219} INFO - iteration 322, current learner rf\n",
      "[flaml.automl.logger: 06-05 19:56:49] {2392} INFO -  at 317.8s,\testimator rf's best error=0.0303,\tbest estimator lgbm's best error=0.0259\n",
      "[flaml.automl.logger: 06-05 19:56:49] {2219} INFO - iteration 323, current learner lgbm\n",
      "[flaml.automl.logger: 06-05 19:56:50] {2392} INFO -  at 319.2s,\testimator lgbm's best error=0.0259,\tbest estimator lgbm's best error=0.0259\n",
      "[flaml.automl.logger: 06-05 19:56:50] {2219} INFO - iteration 324, current learner lgbm\n",
      "[flaml.automl.logger: 06-05 19:56:53] {2392} INFO -  at 322.0s,\testimator lgbm's best error=0.0259,\tbest estimator lgbm's best error=0.0259\n",
      "[flaml.automl.logger: 06-05 19:56:53] {2219} INFO - iteration 325, current learner extra_tree\n",
      "[flaml.automl.logger: 06-05 19:56:54] {2392} INFO -  at 322.8s,\testimator extra_tree's best error=0.0391,\tbest estimator lgbm's best error=0.0259\n",
      "[flaml.automl.logger: 06-05 19:56:54] {2219} INFO - iteration 326, current learner rf\n",
      "[flaml.automl.logger: 06-05 19:56:57] {2392} INFO -  at 325.5s,\testimator rf's best error=0.0303,\tbest estimator lgbm's best error=0.0259\n",
      "[flaml.automl.logger: 06-05 19:56:57] {2219} INFO - iteration 327, current learner rf\n",
      "[flaml.automl.logger: 06-05 19:56:58] {2392} INFO -  at 326.6s,\testimator rf's best error=0.0303,\tbest estimator lgbm's best error=0.0259\n",
      "[flaml.automl.logger: 06-05 19:56:58] {2219} INFO - iteration 328, current learner lgbm\n",
      "[flaml.automl.logger: 06-05 19:57:00] {2392} INFO -  at 328.8s,\testimator lgbm's best error=0.0259,\tbest estimator lgbm's best error=0.0259\n",
      "[flaml.automl.logger: 06-05 19:57:00] {2219} INFO - iteration 329, current learner lgbm\n",
      "[flaml.automl.logger: 06-05 19:57:03] {2392} INFO -  at 331.7s,\testimator lgbm's best error=0.0259,\tbest estimator lgbm's best error=0.0259\n",
      "[flaml.automl.logger: 06-05 19:57:03] {2219} INFO - iteration 330, current learner rf\n",
      "[flaml.automl.logger: 06-05 19:57:04] {2392} INFO -  at 332.6s,\testimator rf's best error=0.0303,\tbest estimator lgbm's best error=0.0259\n",
      "[flaml.automl.logger: 06-05 19:57:04] {2219} INFO - iteration 331, current learner rf\n",
      "[flaml.automl.logger: 06-05 19:57:07] {2392} INFO -  at 335.5s,\testimator rf's best error=0.0303,\tbest estimator lgbm's best error=0.0259\n",
      "[flaml.automl.logger: 06-05 19:57:07] {2219} INFO - iteration 332, current learner lgbm\n",
      "[flaml.automl.logger: 06-05 19:57:09] {2392} INFO -  at 337.4s,\testimator lgbm's best error=0.0259,\tbest estimator lgbm's best error=0.0259\n",
      "[flaml.automl.logger: 06-05 19:57:09] {2219} INFO - iteration 333, current learner rf\n",
      "[flaml.automl.logger: 06-05 19:57:10] {2392} INFO -  at 338.3s,\testimator rf's best error=0.0290,\tbest estimator lgbm's best error=0.0259\n",
      "[flaml.automl.logger: 06-05 19:57:10] {2219} INFO - iteration 334, current learner rf\n",
      "[flaml.automl.logger: 06-05 19:57:11] {2392} INFO -  at 339.9s,\testimator rf's best error=0.0290,\tbest estimator lgbm's best error=0.0259\n",
      "[flaml.automl.logger: 06-05 19:57:11] {2219} INFO - iteration 335, current learner rf\n",
      "[flaml.automl.logger: 06-05 19:57:13] {2392} INFO -  at 341.3s,\testimator rf's best error=0.0290,\tbest estimator lgbm's best error=0.0259\n",
      "[flaml.automl.logger: 06-05 19:57:13] {2219} INFO - iteration 336, current learner lgbm\n",
      "[flaml.automl.logger: 06-05 19:57:14] {2392} INFO -  at 342.5s,\testimator lgbm's best error=0.0259,\tbest estimator lgbm's best error=0.0259\n",
      "[flaml.automl.logger: 06-05 19:57:14] {2219} INFO - iteration 337, current learner extra_tree\n",
      "[flaml.automl.logger: 06-05 19:57:14] {2392} INFO -  at 343.0s,\testimator extra_tree's best error=0.0391,\tbest estimator lgbm's best error=0.0259\n",
      "[flaml.automl.logger: 06-05 19:57:14] {2219} INFO - iteration 338, current learner lgbm\n",
      "[flaml.automl.logger: 06-05 19:57:19] {2392} INFO -  at 348.2s,\testimator lgbm's best error=0.0246,\tbest estimator lgbm's best error=0.0246\n",
      "[flaml.automl.logger: 06-05 19:57:19] {2219} INFO - iteration 339, current learner rf\n",
      "[flaml.automl.logger: 06-05 19:57:20] {2392} INFO -  at 348.9s,\testimator rf's best error=0.0290,\tbest estimator lgbm's best error=0.0246\n",
      "[flaml.automl.logger: 06-05 19:57:20] {2219} INFO - iteration 340, current learner extra_tree\n",
      "[flaml.automl.logger: 06-05 19:57:21] {2392} INFO -  at 349.4s,\testimator extra_tree's best error=0.0391,\tbest estimator lgbm's best error=0.0246\n",
      "[flaml.automl.logger: 06-05 19:57:21] {2219} INFO - iteration 341, current learner lgbm\n",
      "[flaml.automl.logger: 06-05 19:57:23] {2392} INFO -  at 351.8s,\testimator lgbm's best error=0.0246,\tbest estimator lgbm's best error=0.0246\n",
      "[flaml.automl.logger: 06-05 19:57:23] {2219} INFO - iteration 342, current learner lgbm\n",
      "[flaml.automl.logger: 06-05 19:57:32] {2392} INFO -  at 360.9s,\testimator lgbm's best error=0.0246,\tbest estimator lgbm's best error=0.0246\n",
      "[flaml.automl.logger: 06-05 19:57:32] {2219} INFO - iteration 343, current learner extra_tree\n",
      "[flaml.automl.logger: 06-05 19:57:33] {2392} INFO -  at 361.7s,\testimator extra_tree's best error=0.0391,\tbest estimator lgbm's best error=0.0246\n",
      "[flaml.automl.logger: 06-05 19:57:33] {2219} INFO - iteration 344, current learner extra_tree\n",
      "[flaml.automl.logger: 06-05 19:57:34] {2392} INFO -  at 362.3s,\testimator extra_tree's best error=0.0391,\tbest estimator lgbm's best error=0.0246\n",
      "[flaml.automl.logger: 06-05 19:57:34] {2219} INFO - iteration 345, current learner rf\n"
     ]
    },
    {
     "name": "stdout",
     "output_type": "stream",
     "text": [
      "[flaml.automl.logger: 06-05 19:57:34] {2392} INFO -  at 363.2s,\testimator rf's best error=0.0290,\tbest estimator lgbm's best error=0.0246\n",
      "[flaml.automl.logger: 06-05 19:57:34] {2219} INFO - iteration 346, current learner extra_tree\n",
      "[flaml.automl.logger: 06-05 19:57:35] {2392} INFO -  at 363.8s,\testimator extra_tree's best error=0.0391,\tbest estimator lgbm's best error=0.0246\n",
      "[flaml.automl.logger: 06-05 19:57:35] {2219} INFO - iteration 347, current learner extra_tree\n",
      "[flaml.automl.logger: 06-05 19:57:36] {2392} INFO -  at 364.5s,\testimator extra_tree's best error=0.0391,\tbest estimator lgbm's best error=0.0246\n",
      "[flaml.automl.logger: 06-05 19:57:36] {2219} INFO - iteration 348, current learner extra_tree\n",
      "[flaml.automl.logger: 06-05 19:57:36] {2392} INFO -  at 365.1s,\testimator extra_tree's best error=0.0391,\tbest estimator lgbm's best error=0.0246\n",
      "[flaml.automl.logger: 06-05 19:57:36] {2219} INFO - iteration 349, current learner extra_tree\n",
      "[flaml.automl.logger: 06-05 19:57:37] {2392} INFO -  at 365.7s,\testimator extra_tree's best error=0.0391,\tbest estimator lgbm's best error=0.0246\n",
      "[flaml.automl.logger: 06-05 19:57:37] {2219} INFO - iteration 350, current learner lgbm\n",
      "[flaml.automl.logger: 06-05 19:57:39] {2392} INFO -  at 368.1s,\testimator lgbm's best error=0.0246,\tbest estimator lgbm's best error=0.0246\n",
      "[flaml.automl.logger: 06-05 19:57:39] {2219} INFO - iteration 351, current learner rf\n",
      "[flaml.automl.logger: 06-05 19:57:40] {2392} INFO -  at 368.8s,\testimator rf's best error=0.0290,\tbest estimator lgbm's best error=0.0246\n",
      "[flaml.automl.logger: 06-05 19:57:40] {2219} INFO - iteration 352, current learner rf\n",
      "[flaml.automl.logger: 06-05 19:57:41] {2392} INFO -  at 369.4s,\testimator rf's best error=0.0290,\tbest estimator lgbm's best error=0.0246\n",
      "[flaml.automl.logger: 06-05 19:57:41] {2219} INFO - iteration 353, current learner rf\n",
      "[flaml.automl.logger: 06-05 19:57:42] {2392} INFO -  at 370.9s,\testimator rf's best error=0.0290,\tbest estimator lgbm's best error=0.0246\n",
      "[flaml.automl.logger: 06-05 19:57:42] {2219} INFO - iteration 354, current learner extra_tree\n",
      "[flaml.automl.logger: 06-05 19:57:43] {2392} INFO -  at 371.3s,\testimator extra_tree's best error=0.0391,\tbest estimator lgbm's best error=0.0246\n",
      "[flaml.automl.logger: 06-05 19:57:43] {2219} INFO - iteration 355, current learner lgbm\n",
      "[flaml.automl.logger: 06-05 19:57:46] {2392} INFO -  at 374.4s,\testimator lgbm's best error=0.0246,\tbest estimator lgbm's best error=0.0246\n",
      "[flaml.automl.logger: 06-05 19:57:46] {2219} INFO - iteration 356, current learner extra_tree\n",
      "[flaml.automl.logger: 06-05 19:57:46] {2392} INFO -  at 375.2s,\testimator extra_tree's best error=0.0391,\tbest estimator lgbm's best error=0.0246\n",
      "[flaml.automl.logger: 06-05 19:57:46] {2219} INFO - iteration 357, current learner rf\n",
      "[flaml.automl.logger: 06-05 19:57:47] {2392} INFO -  at 375.8s,\testimator rf's best error=0.0290,\tbest estimator lgbm's best error=0.0246\n",
      "[flaml.automl.logger: 06-05 19:57:47] {2219} INFO - iteration 358, current learner lgbm\n",
      "[flaml.automl.logger: 06-05 19:57:51] {2392} INFO -  at 379.7s,\testimator lgbm's best error=0.0246,\tbest estimator lgbm's best error=0.0246\n",
      "[flaml.automl.logger: 06-05 19:57:51] {2219} INFO - iteration 359, current learner lgbm\n",
      "[flaml.automl.logger: 06-05 19:57:54] {2392} INFO -  at 382.7s,\testimator lgbm's best error=0.0246,\tbest estimator lgbm's best error=0.0246\n",
      "[flaml.automl.logger: 06-05 19:57:54] {2219} INFO - iteration 360, current learner rf\n",
      "[flaml.automl.logger: 06-05 19:57:55] {2392} INFO -  at 383.7s,\testimator rf's best error=0.0290,\tbest estimator lgbm's best error=0.0246\n",
      "[flaml.automl.logger: 06-05 19:57:55] {2219} INFO - iteration 361, current learner lgbm\n",
      "[flaml.automl.logger: 06-05 19:58:02] {2392} INFO -  at 390.4s,\testimator lgbm's best error=0.0246,\tbest estimator lgbm's best error=0.0246\n",
      "[flaml.automl.logger: 06-05 19:58:02] {2219} INFO - iteration 362, current learner extra_tree\n",
      "[flaml.automl.logger: 06-05 19:58:02] {2392} INFO -  at 390.8s,\testimator extra_tree's best error=0.0391,\tbest estimator lgbm's best error=0.0246\n",
      "[flaml.automl.logger: 06-05 19:58:02] {2219} INFO - iteration 363, current learner lgbm\n",
      "[flaml.automl.logger: 06-05 19:58:08] {2392} INFO -  at 396.9s,\testimator lgbm's best error=0.0246,\tbest estimator lgbm's best error=0.0246\n",
      "[flaml.automl.logger: 06-05 19:58:08] {2219} INFO - iteration 364, current learner extra_tree\n",
      "[flaml.automl.logger: 06-05 19:58:09] {2392} INFO -  at 397.3s,\testimator extra_tree's best error=0.0391,\tbest estimator lgbm's best error=0.0246\n",
      "[flaml.automl.logger: 06-05 19:58:09] {2219} INFO - iteration 365, current learner extra_tree\n",
      "[flaml.automl.logger: 06-05 19:58:09] {2392} INFO -  at 398.2s,\testimator extra_tree's best error=0.0391,\tbest estimator lgbm's best error=0.0246\n",
      "[flaml.automl.logger: 06-05 19:58:09] {2219} INFO - iteration 366, current learner lgbm\n",
      "[flaml.automl.logger: 06-05 19:58:11] {2392} INFO -  at 400.0s,\testimator lgbm's best error=0.0246,\tbest estimator lgbm's best error=0.0246\n",
      "[flaml.automl.logger: 06-05 19:58:11] {2219} INFO - iteration 367, current learner lgbm\n",
      "[flaml.automl.logger: 06-05 19:58:14] {2392} INFO -  at 402.8s,\testimator lgbm's best error=0.0246,\tbest estimator lgbm's best error=0.0246\n",
      "[flaml.automl.logger: 06-05 19:58:14] {2219} INFO - iteration 368, current learner extra_tree\n",
      "[flaml.automl.logger: 06-05 19:58:15] {2392} INFO -  at 403.3s,\testimator extra_tree's best error=0.0391,\tbest estimator lgbm's best error=0.0246\n",
      "[flaml.automl.logger: 06-05 19:58:15] {2219} INFO - iteration 369, current learner rf\n",
      "[flaml.automl.logger: 06-05 19:58:15] {2392} INFO -  at 403.8s,\testimator rf's best error=0.0290,\tbest estimator lgbm's best error=0.0246\n",
      "[flaml.automl.logger: 06-05 19:58:15] {2219} INFO - iteration 370, current learner extra_tree\n",
      "[flaml.automl.logger: 06-05 19:58:16] {2392} INFO -  at 404.5s,\testimator extra_tree's best error=0.0385,\tbest estimator lgbm's best error=0.0246\n",
      "[flaml.automl.logger: 06-05 19:58:16] {2219} INFO - iteration 371, current learner rf\n",
      "[flaml.automl.logger: 06-05 19:58:17] {2392} INFO -  at 406.0s,\testimator rf's best error=0.0290,\tbest estimator lgbm's best error=0.0246\n",
      "[flaml.automl.logger: 06-05 19:58:17] {2219} INFO - iteration 372, current learner xgb_limitdepth\n",
      "[flaml.automl.logger: 06-05 19:58:18] {2392} INFO -  at 406.3s,\testimator xgb_limitdepth's best error=0.0391,\tbest estimator lgbm's best error=0.0246\n",
      "[flaml.automl.logger: 06-05 19:58:18] {2219} INFO - iteration 373, current learner lgbm\n",
      "[flaml.automl.logger: 06-05 19:58:25] {2392} INFO -  at 413.6s,\testimator lgbm's best error=0.0246,\tbest estimator lgbm's best error=0.0246\n",
      "[flaml.automl.logger: 06-05 19:58:25] {2219} INFO - iteration 374, current learner lgbm\n",
      "[flaml.automl.logger: 06-05 19:58:28] {2392} INFO -  at 416.5s,\testimator lgbm's best error=0.0246,\tbest estimator lgbm's best error=0.0246\n",
      "[flaml.automl.logger: 06-05 19:58:28] {2219} INFO - iteration 375, current learner lgbm\n",
      "[flaml.automl.logger: 06-05 19:58:33] {2392} INFO -  at 421.4s,\testimator lgbm's best error=0.0246,\tbest estimator lgbm's best error=0.0246\n",
      "[flaml.automl.logger: 06-05 19:58:33] {2219} INFO - iteration 376, current learner lgbm\n",
      "[flaml.automl.logger: 06-05 19:58:38] {2392} INFO -  at 426.9s,\testimator lgbm's best error=0.0246,\tbest estimator lgbm's best error=0.0246\n",
      "[flaml.automl.logger: 06-05 19:58:38] {2219} INFO - iteration 377, current learner lgbm\n",
      "[flaml.automl.logger: 06-05 19:58:40] {2392} INFO -  at 428.4s,\testimator lgbm's best error=0.0246,\tbest estimator lgbm's best error=0.0246\n",
      "[flaml.automl.logger: 06-05 19:58:40] {2219} INFO - iteration 378, current learner lgbm\n",
      "[flaml.automl.logger: 06-05 19:58:44] {2392} INFO -  at 433.0s,\testimator lgbm's best error=0.0246,\tbest estimator lgbm's best error=0.0246\n",
      "[flaml.automl.logger: 06-05 19:58:44] {2219} INFO - iteration 379, current learner rf\n",
      "[flaml.automl.logger: 06-05 19:58:45] {2392} INFO -  at 433.7s,\testimator rf's best error=0.0290,\tbest estimator lgbm's best error=0.0246\n",
      "[flaml.automl.logger: 06-05 19:58:45] {2219} INFO - iteration 380, current learner lgbm\n",
      "[flaml.automl.logger: 06-05 19:58:48] {2392} INFO -  at 437.2s,\testimator lgbm's best error=0.0246,\tbest estimator lgbm's best error=0.0246\n"
     ]
    },
    {
     "name": "stdout",
     "output_type": "stream",
     "text": [
      "[flaml.automl.logger: 06-05 19:58:48] {2219} INFO - iteration 381, current learner lgbm\n",
      "[flaml.automl.logger: 06-05 19:58:57] {2392} INFO -  at 445.3s,\testimator lgbm's best error=0.0246,\tbest estimator lgbm's best error=0.0246\n",
      "[flaml.automl.logger: 06-05 19:58:57] {2219} INFO - iteration 382, current learner rf\n",
      "[flaml.automl.logger: 06-05 19:58:58] {2392} INFO -  at 446.5s,\testimator rf's best error=0.0290,\tbest estimator lgbm's best error=0.0246\n",
      "[flaml.automl.logger: 06-05 19:58:58] {2219} INFO - iteration 383, current learner rf\n",
      "[flaml.automl.logger: 06-05 19:58:58] {2392} INFO -  at 447.1s,\testimator rf's best error=0.0290,\tbest estimator lgbm's best error=0.0246\n",
      "[flaml.automl.logger: 06-05 19:58:58] {2219} INFO - iteration 384, current learner rf\n",
      "[flaml.automl.logger: 06-05 19:59:00] {2392} INFO -  at 448.7s,\testimator rf's best error=0.0290,\tbest estimator lgbm's best error=0.0246\n",
      "[flaml.automl.logger: 06-05 19:59:00] {2219} INFO - iteration 385, current learner lgbm\n",
      "[flaml.automl.logger: 06-05 19:59:03] {2392} INFO -  at 451.4s,\testimator lgbm's best error=0.0246,\tbest estimator lgbm's best error=0.0246\n",
      "[flaml.automl.logger: 06-05 19:59:03] {2219} INFO - iteration 386, current learner lgbm\n",
      "[flaml.automl.logger: 06-05 19:59:07] {2392} INFO -  at 455.5s,\testimator lgbm's best error=0.0246,\tbest estimator lgbm's best error=0.0246\n",
      "[flaml.automl.logger: 06-05 19:59:07] {2219} INFO - iteration 387, current learner lgbm\n",
      "[flaml.automl.logger: 06-05 19:59:11] {2392} INFO -  at 460.2s,\testimator lgbm's best error=0.0246,\tbest estimator lgbm's best error=0.0246\n",
      "[flaml.automl.logger: 06-05 19:59:11] {2219} INFO - iteration 388, current learner extra_tree\n",
      "[flaml.automl.logger: 06-05 19:59:13] {2392} INFO -  at 461.4s,\testimator extra_tree's best error=0.0385,\tbest estimator lgbm's best error=0.0246\n",
      "[flaml.automl.logger: 06-05 19:59:13] {2219} INFO - iteration 389, current learner lgbm\n",
      "[flaml.automl.logger: 06-05 19:59:16] {2392} INFO -  at 464.3s,\testimator lgbm's best error=0.0246,\tbest estimator lgbm's best error=0.0246\n",
      "[flaml.automl.logger: 06-05 19:59:16] {2219} INFO - iteration 390, current learner lgbm\n",
      "[flaml.automl.logger: 06-05 19:59:20] {2392} INFO -  at 468.8s,\testimator lgbm's best error=0.0246,\tbest estimator lgbm's best error=0.0246\n",
      "[flaml.automl.logger: 06-05 19:59:20] {2219} INFO - iteration 391, current learner lgbm\n",
      "[flaml.automl.logger: 06-05 19:59:28] {2392} INFO -  at 476.7s,\testimator lgbm's best error=0.0246,\tbest estimator lgbm's best error=0.0246\n",
      "[flaml.automl.logger: 06-05 19:59:28] {2219} INFO - iteration 392, current learner rf\n",
      "[flaml.automl.logger: 06-05 19:59:29] {2392} INFO -  at 477.7s,\testimator rf's best error=0.0290,\tbest estimator lgbm's best error=0.0246\n",
      "[flaml.automl.logger: 06-05 19:59:29] {2219} INFO - iteration 393, current learner lgbm\n",
      "[flaml.automl.logger: 06-05 19:59:31] {2392} INFO -  at 479.6s,\testimator lgbm's best error=0.0246,\tbest estimator lgbm's best error=0.0246\n",
      "[flaml.automl.logger: 06-05 19:59:31] {2219} INFO - iteration 394, current learner lgbm\n",
      "[flaml.automl.logger: 06-05 19:59:35] {2392} INFO -  at 483.7s,\testimator lgbm's best error=0.0246,\tbest estimator lgbm's best error=0.0246\n",
      "[flaml.automl.logger: 06-05 19:59:35] {2219} INFO - iteration 395, current learner lgbm\n",
      "[flaml.automl.logger: 06-05 19:59:39] {2392} INFO -  at 487.3s,\testimator lgbm's best error=0.0246,\tbest estimator lgbm's best error=0.0246\n",
      "[flaml.automl.logger: 06-05 19:59:39] {2219} INFO - iteration 396, current learner lgbm\n",
      "[flaml.automl.logger: 06-05 19:59:42] {2392} INFO -  at 490.7s,\testimator lgbm's best error=0.0246,\tbest estimator lgbm's best error=0.0246\n",
      "[flaml.automl.logger: 06-05 19:59:42] {2219} INFO - iteration 397, current learner rf\n",
      "[flaml.automl.logger: 06-05 19:59:43] {2392} INFO -  at 491.3s,\testimator rf's best error=0.0290,\tbest estimator lgbm's best error=0.0246\n",
      "[flaml.automl.logger: 06-05 19:59:43] {2219} INFO - iteration 398, current learner lgbm\n",
      "[flaml.automl.logger: 06-05 19:59:49] {2392} INFO -  at 497.3s,\testimator lgbm's best error=0.0246,\tbest estimator lgbm's best error=0.0246\n",
      "[flaml.automl.logger: 06-05 19:59:49] {2219} INFO - iteration 399, current learner lgbm\n",
      "[flaml.automl.logger: 06-05 20:00:01] {2392} INFO -  at 509.6s,\testimator lgbm's best error=0.0246,\tbest estimator lgbm's best error=0.0246\n",
      "[flaml.automl.logger: 06-05 20:00:01] {2219} INFO - iteration 400, current learner lgbm\n",
      "[flaml.automl.logger: 06-05 20:00:03] {2392} INFO -  at 511.4s,\testimator lgbm's best error=0.0246,\tbest estimator lgbm's best error=0.0246\n",
      "[flaml.automl.logger: 06-05 20:00:03] {2219} INFO - iteration 401, current learner rf\n",
      "[flaml.automl.logger: 06-05 20:00:04] {2392} INFO -  at 512.6s,\testimator rf's best error=0.0290,\tbest estimator lgbm's best error=0.0246\n",
      "[flaml.automl.logger: 06-05 20:00:04] {2219} INFO - iteration 402, current learner lgbm\n",
      "[flaml.automl.logger: 06-05 20:00:07] {2392} INFO -  at 515.7s,\testimator lgbm's best error=0.0246,\tbest estimator lgbm's best error=0.0246\n",
      "[flaml.automl.logger: 06-05 20:00:07] {2219} INFO - iteration 403, current learner rf\n",
      "[flaml.automl.logger: 06-05 20:00:07] {2392} INFO -  at 516.2s,\testimator rf's best error=0.0290,\tbest estimator lgbm's best error=0.0246\n",
      "[flaml.automl.logger: 06-05 20:00:07] {2219} INFO - iteration 404, current learner lgbm\n",
      "[flaml.automl.logger: 06-05 20:00:16] {2392} INFO -  at 524.6s,\testimator lgbm's best error=0.0246,\tbest estimator lgbm's best error=0.0246\n",
      "[flaml.automl.logger: 06-05 20:00:16] {2219} INFO - iteration 405, current learner lgbm\n",
      "[flaml.automl.logger: 06-05 20:00:22] {2392} INFO -  at 530.7s,\testimator lgbm's best error=0.0246,\tbest estimator lgbm's best error=0.0246\n",
      "[flaml.automl.logger: 06-05 20:00:22] {2219} INFO - iteration 406, current learner extra_tree\n",
      "[flaml.automl.logger: 06-05 20:00:23] {2392} INFO -  at 531.5s,\testimator extra_tree's best error=0.0385,\tbest estimator lgbm's best error=0.0246\n",
      "[flaml.automl.logger: 06-05 20:00:23] {2219} INFO - iteration 407, current learner rf\n",
      "[flaml.automl.logger: 06-05 20:00:24] {2392} INFO -  at 532.5s,\testimator rf's best error=0.0290,\tbest estimator lgbm's best error=0.0246\n",
      "[flaml.automl.logger: 06-05 20:00:24] {2219} INFO - iteration 408, current learner lgbm\n",
      "[flaml.automl.logger: 06-05 20:00:26] {2392} INFO -  at 534.9s,\testimator lgbm's best error=0.0246,\tbest estimator lgbm's best error=0.0246\n",
      "[flaml.automl.logger: 06-05 20:00:26] {2219} INFO - iteration 409, current learner rf\n",
      "[flaml.automl.logger: 06-05 20:00:27] {2392} INFO -  at 535.5s,\testimator rf's best error=0.0290,\tbest estimator lgbm's best error=0.0246\n",
      "[flaml.automl.logger: 06-05 20:00:27] {2219} INFO - iteration 410, current learner lgbm\n",
      "[flaml.automl.logger: 06-05 20:00:29] {2392} INFO -  at 537.3s,\testimator lgbm's best error=0.0246,\tbest estimator lgbm's best error=0.0246\n",
      "[flaml.automl.logger: 06-05 20:00:29] {2219} INFO - iteration 411, current learner extra_tree\n",
      "[flaml.automl.logger: 06-05 20:00:29] {2392} INFO -  at 538.1s,\testimator extra_tree's best error=0.0385,\tbest estimator lgbm's best error=0.0246\n",
      "[flaml.automl.logger: 06-05 20:00:29] {2219} INFO - iteration 412, current learner lgbm\n",
      "[flaml.automl.logger: 06-05 20:00:36] {2392} INFO -  at 544.3s,\testimator lgbm's best error=0.0246,\tbest estimator lgbm's best error=0.0246\n",
      "[flaml.automl.logger: 06-05 20:00:36] {2219} INFO - iteration 413, current learner lgbm\n",
      "[flaml.automl.logger: 06-05 20:00:38] {2392} INFO -  at 546.8s,\testimator lgbm's best error=0.0246,\tbest estimator lgbm's best error=0.0246\n",
      "[flaml.automl.logger: 06-05 20:00:38] {2219} INFO - iteration 414, current learner lgbm\n",
      "[flaml.automl.logger: 06-05 20:00:44] {2392} INFO -  at 552.7s,\testimator lgbm's best error=0.0246,\tbest estimator lgbm's best error=0.0246\n",
      "[flaml.automl.logger: 06-05 20:00:44] {2219} INFO - iteration 415, current learner lgbm\n",
      "[flaml.automl.logger: 06-05 20:00:46] {2392} INFO -  at 554.7s,\testimator lgbm's best error=0.0246,\tbest estimator lgbm's best error=0.0246\n",
      "[flaml.automl.logger: 06-05 20:00:46] {2219} INFO - iteration 416, current learner lgbm\n",
      "[flaml.automl.logger: 06-05 20:00:56] {2392} INFO -  at 564.4s,\testimator lgbm's best error=0.0246,\tbest estimator lgbm's best error=0.0246\n"
     ]
    },
    {
     "name": "stdout",
     "output_type": "stream",
     "text": [
      "[flaml.automl.logger: 06-05 20:00:56] {2219} INFO - iteration 417, current learner rf\n",
      "[flaml.automl.logger: 06-05 20:00:57] {2392} INFO -  at 565.6s,\testimator rf's best error=0.0290,\tbest estimator lgbm's best error=0.0246\n",
      "[flaml.automl.logger: 06-05 20:00:57] {2219} INFO - iteration 418, current learner rf\n",
      "[flaml.automl.logger: 06-05 20:00:58] {2392} INFO -  at 566.3s,\testimator rf's best error=0.0290,\tbest estimator lgbm's best error=0.0246\n",
      "[flaml.automl.logger: 06-05 20:00:58] {2219} INFO - iteration 419, current learner rf\n",
      "[flaml.automl.logger: 06-05 20:00:58] {2392} INFO -  at 567.2s,\testimator rf's best error=0.0290,\tbest estimator lgbm's best error=0.0246\n",
      "[flaml.automl.logger: 06-05 20:00:58] {2219} INFO - iteration 420, current learner lgbm\n",
      "[flaml.automl.logger: 06-05 20:01:01] {2392} INFO -  at 569.3s,\testimator lgbm's best error=0.0246,\tbest estimator lgbm's best error=0.0246\n",
      "[flaml.automl.logger: 06-05 20:01:01] {2219} INFO - iteration 421, current learner lgbm\n",
      "[flaml.automl.logger: 06-05 20:01:09] {2392} INFO -  at 577.4s,\testimator lgbm's best error=0.0246,\tbest estimator lgbm's best error=0.0246\n",
      "[flaml.automl.logger: 06-05 20:01:09] {2219} INFO - iteration 422, current learner lgbm\n",
      "[flaml.automl.logger: 06-05 20:01:16] {2392} INFO -  at 584.4s,\testimator lgbm's best error=0.0246,\tbest estimator lgbm's best error=0.0246\n",
      "[flaml.automl.logger: 06-05 20:01:16] {2219} INFO - iteration 423, current learner lgbm\n",
      "[flaml.automl.logger: 06-05 20:01:18] {2392} INFO -  at 586.6s,\testimator lgbm's best error=0.0246,\tbest estimator lgbm's best error=0.0246\n",
      "[flaml.automl.logger: 06-05 20:01:18] {2219} INFO - iteration 424, current learner lgbm\n",
      "[flaml.automl.logger: 06-05 20:01:20] {2392} INFO -  at 588.5s,\testimator lgbm's best error=0.0246,\tbest estimator lgbm's best error=0.0246\n",
      "[flaml.automl.logger: 06-05 20:01:20] {2219} INFO - iteration 425, current learner lgbm\n",
      "[flaml.automl.logger: 06-05 20:01:27] {2392} INFO -  at 595.5s,\testimator lgbm's best error=0.0246,\tbest estimator lgbm's best error=0.0246\n",
      "[flaml.automl.logger: 06-05 20:01:27] {2219} INFO - iteration 426, current learner extra_tree\n",
      "[flaml.automl.logger: 06-05 20:01:28] {2392} INFO -  at 596.3s,\testimator extra_tree's best error=0.0385,\tbest estimator lgbm's best error=0.0246\n",
      "[flaml.automl.logger: 06-05 20:01:28] {2219} INFO - iteration 427, current learner xgboost\n",
      "[flaml.automl.logger: 06-05 20:01:29] {2392} INFO -  at 598.0s,\testimator xgboost's best error=0.0271,\tbest estimator lgbm's best error=0.0246\n",
      "[flaml.automl.logger: 06-05 20:01:29] {2219} INFO - iteration 428, current learner rf\n",
      "[flaml.automl.logger: 06-05 20:01:30] {2392} INFO -  at 598.9s,\testimator rf's best error=0.0290,\tbest estimator lgbm's best error=0.0246\n",
      "[flaml.automl.logger: 06-05 20:01:30] {2219} INFO - iteration 429, current learner rf\n",
      "[flaml.automl.logger: 06-05 20:01:31] {2392} INFO -  at 599.4s,\testimator rf's best error=0.0290,\tbest estimator lgbm's best error=0.0246\n",
      "[flaml.automl.logger: 06-05 20:01:31] {2219} INFO - iteration 430, current learner xgb_limitdepth\n",
      "[flaml.automl.logger: 06-05 20:01:31] {2392} INFO -  at 599.9s,\testimator xgb_limitdepth's best error=0.0372,\tbest estimator lgbm's best error=0.0246\n",
      "[flaml.automl.logger: 06-05 20:01:33] {2628} INFO - retrain lgbm for 1.4s\n",
      "[flaml.automl.logger: 06-05 20:01:33] {2631} INFO - retrained model: LGBMClassifier(colsample_bytree=0.727793277940817,\n",
      "               learning_rate=0.06417558576328687, max_bin=255,\n",
      "               min_child_samples=4, n_estimators=1, n_jobs=-1, num_leaves=21,\n",
      "               reg_alpha=0.0009765625, reg_lambda=0.0035337021827272115,\n",
      "               verbose=-1)\n",
      "[flaml.automl.logger: 06-05 20:01:33] {1931} INFO - fit succeeded\n",
      "[flaml.automl.logger: 06-05 20:01:33] {1932} INFO - Time taken to find the best model: 348.17846155166626\n"
     ]
    }
   ],
   "source": [
    "automl = AutoML()\n",
    "automl.fit(X_train=x_train,y_train=y_train,**automl_settings)"
   ]
  },
  {
   "cell_type": "code",
   "execution_count": 7,
   "id": "e4203c6e",
   "metadata": {
    "ExecuteTime": {
     "end_time": "2024-06-05T17:01:33.041932Z",
     "start_time": "2024-06-05T17:01:33.035106Z"
    }
   },
   "outputs": [
    {
     "data": {
      "text/plain": [
       "<flaml.automl.model.LGBMEstimator at 0x22f06b9f9d0>"
      ]
     },
     "execution_count": 7,
     "metadata": {},
     "output_type": "execute_result"
    }
   ],
   "source": [
    "automl.model"
   ]
  },
  {
   "cell_type": "code",
   "execution_count": 8,
   "id": "a1bce4a5",
   "metadata": {
    "ExecuteTime": {
     "end_time": "2024-06-05T17:01:33.078285Z",
     "start_time": "2024-06-05T17:01:33.044945Z"
    }
   },
   "outputs": [],
   "source": [
    "y_pred = automl.predict(x_test)"
   ]
  },
  {
   "cell_type": "code",
   "execution_count": 9,
   "id": "5c0ea2d0",
   "metadata": {
    "ExecuteTime": {
     "end_time": "2024-06-05T17:01:33.087891Z",
     "start_time": "2024-06-05T17:01:33.080293Z"
    }
   },
   "outputs": [
    {
     "data": {
      "text/plain": [
       "0.9899244332493703"
      ]
     },
     "execution_count": 9,
     "metadata": {},
     "output_type": "execute_result"
    }
   ],
   "source": [
    "accuracy_score(y_test,y_pred)"
   ]
  },
  {
   "cell_type": "code",
   "execution_count": 10,
   "id": "58b01edc",
   "metadata": {
    "ExecuteTime": {
     "end_time": "2024-06-05T17:01:33.099269Z",
     "start_time": "2024-06-05T17:01:33.090900Z"
    }
   },
   "outputs": [
    {
     "data": {
      "text/plain": [
       "{'n_estimators': 388,\n",
       " 'num_leaves': 21,\n",
       " 'min_child_samples': 4,\n",
       " 'learning_rate': 0.06417558576328687,\n",
       " 'colsample_bytree': 0.727793277940817,\n",
       " 'reg_alpha': 0.0009765625,\n",
       " 'reg_lambda': 0.0035337021827272115,\n",
       " 'n_jobs': -1,\n",
       " 'max_bin': 255,\n",
       " 'verbose': -1,\n",
       " 'task': <flaml.automl.task.generic_task.GenericTask at 0x22f06b8bb10>,\n",
       " '_estimator_type': 'classifier'}"
      ]
     },
     "execution_count": 10,
     "metadata": {},
     "output_type": "execute_result"
    }
   ],
   "source": [
    "automl.model.get_params()"
   ]
  },
  {
   "cell_type": "code",
   "execution_count": 12,
   "id": "85b1f921",
   "metadata": {
    "ExecuteTime": {
     "end_time": "2024-06-05T17:03:24.170784Z",
     "start_time": "2024-06-05T17:03:24.165908Z"
    }
   },
   "outputs": [],
   "source": [
    "fs = automl.feature_importances_\n",
    "feature_names = x.columns"
   ]
  },
  {
   "cell_type": "code",
   "execution_count": 15,
   "id": "c282bdc8",
   "metadata": {
    "ExecuteTime": {
     "end_time": "2024-06-05T17:03:50.128642Z",
     "start_time": "2024-06-05T17:03:49.785566Z"
    }
   },
   "outputs": [
    {
     "data": {
      "image/png": "[encoded data removed]",
      "text/plain": [
       "<Figure size 1200x900 with 1 Axes>"
      ]
     },
     "metadata": {},
     "output_type": "display_data"
    }
   ],
   "source": [
    "feature_importances = pd.DataFrame(fs,feature_names).sort_values(by=0,ascending=False)\n",
    "plt.figure(figsize=(12, 9))\n",
    "plt.title(\"Feature Importances\")\n",
    "plt.bar(x=feature_importances.index,height=feature_importances[0])\n",
    "plt.xticks(rotation=90)\n",
    "plt.show()"
   ]
  },
  {
   "cell_type": "code",
   "execution_count": 19,
   "id": "3815063b",
   "metadata": {
    "ExecuteTime": {
     "end_time": "2024-06-05T17:04:08.957300Z",
     "start_time": "2024-06-05T17:04:08.674949Z"
    }
   },
   "outputs": [
    {
     "data": {
      "image/png": "[encoded data removed]",
      "text/plain": [
       "<Figure size 640x480 with 2 Axes>"
      ]
     },
     "metadata": {},
     "output_type": "display_data"
    }
   ],
   "source": [
    "y_predicted = automl.predict(x_test)\n",
    "cm = confusion_matrix(y_test, y_predicted)\n",
    "sns.heatmap(cm, annot=True,fmt='d')\n",
    "plt.xlabel('Predicted')\n",
    "plt.ylabel('Truth')\n",
    "plt.title(f\"flaml confusion matrix\")\n",
    "plt.show()"
   ]
  }
 ],
 "metadata": {
  "kernelspec": {
   "display_name": "Python 3 (ipykernel)",
   "language": "python",
   "name": "python3"
  },
  "language_info": {
   "codemirror_mode": {
    "name": "ipython",
    "version": 3
   },
   "file_extension": ".py",
   "mimetype": "text/x-python",
   "name": "python",
   "nbconvert_exporter": "python",
   "pygments_lexer": "ipython3",
   "version": "3.11.9"
  },
  "varInspector": {
   "cols": {
    "lenName": 16,
    "lenType": 16,
    "lenVar": 40
   },
   "kernels_config": {
    "python": {
     "delete_cmd_postfix": "",
     "delete_cmd_prefix": "del ",
     "library": "var_list.py",
     "varRefreshCmd": "print(var_dic_list())"
    },
    "r": {
     "delete_cmd_postfix": ") ",
     "delete_cmd_prefix": "rm(",
     "library": "var_list.r",
     "varRefreshCmd": "cat(var_dic_list()) "
    }
   },
   "types_to_exclude": [
    "module",
    "function",
    "builtin_function_or_method",
    "instance",
    "_Feature"
   ],
   "window_display": false
  }
 },
 "nbformat": 4,
 "nbformat_minor": 5
}
